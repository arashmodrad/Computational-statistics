{
 "cells": [
  {
   "cell_type": "markdown",
   "metadata": {},
   "source": [
    "<h1><center> MATH 472/572 Computational Statistics - Spring 2020 </h1></center>\n",
    "<h2><center> Homework 3 - February 6, Thursday </h2></center>\n",
    "<h3><center> Instructor: Leming Qu </h3></center>"
   ]
  },
  {
   "cell_type": "markdown",
   "metadata": {},
   "source": [
    "<h1><center> Student: Arash Modaresi Rad </h1></center>"
   ]
  },
  {
   "cell_type": "markdown",
   "metadata": {},
   "source": [
    "## Coding Assignments:"
   ]
  },
  {
   "cell_type": "markdown",
   "metadata": {},
   "source": [
    "**(1)** Implement iteratively reweighted least squares (IRLS) algorithm to reproduce the result in\n",
    "Example 2.5 of Computation Statistics book using. Note that the data set is available from\n",
    "the book’s webpage\n",
    "http://www.stat.colostate.edu/computationalstatistics/."
   ]
  },
  {
   "cell_type": "markdown",
   "metadata": {},
   "source": [
    "(a) Print your result in the format of table 2.1, using starting value β(0) = (β0(0); β1(0))T =\n",
    "(0:95913; 0)T , which means πi = 775=1072 for all i at iteration 0."
   ]
  },
  {
   "cell_type": "markdown",
   "metadata": {},
   "source": [
    "To see the data in table format install tabulate first:"
   ]
  },
  {
   "cell_type": "code",
   "execution_count": 1,
   "metadata": {},
   "outputs": [],
   "source": [
    "#pip install tabulate"
   ]
  },
  {
   "cell_type": "code",
   "execution_count": 2,
   "metadata": {},
   "outputs": [
    {
     "name": "stderr",
     "output_type": "stream",
     "text": [
      "WARNING (theano.configdefaults): g++ not available, if using conda: `conda install m2w64-toolchain`\n",
      "C:\\Users\\Uchiha_Arash\\Anaconda3\\lib\\site-packages\\theano\\configdefaults.py:560: UserWarning: DeprecationWarning: there is no c++ compiler.This is deprecated and with Theano 0.11 a c++ compiler will be mandatory\n",
      "  warnings.warn(\"DeprecationWarning: there is no c++ compiler.\"\n",
      "WARNING (theano.configdefaults): g++ not detected ! Theano will be unable to execute optimized C-implementations (for both CPU and GPU) and will default to Python implementations. Performance will be severely degraded. To remove this warning, set Theano flags cxx to an empty string.\n",
      "WARNING (theano.tensor.blas): Using NumPy C-API based implementation for BLAS functions.\n"
     ]
    }
   ],
   "source": [
    "import time\n",
    "import numpy as np\n",
    "import pandas as pd \n",
    "import matplotlib.pyplot as plt  \n",
    "import functools as fts\n",
    "from tabulate import tabulate as tb\n",
    "import pymc3\n",
    "from scipy.stats import norm\n",
    "from scipy.optimize import fmin\n",
    "from scipy.stats import *\n",
    "from matplotlib.patches import Polygon\n",
    "np.random.seed(1000)"
   ]
  },
  {
   "cell_type": "code",
   "execution_count": 3,
   "metadata": {},
   "outputs": [
    {
     "data": {
      "text/html": [
       "<div>\n",
       "<style scoped>\n",
       "    .dataframe tbody tr th:only-of-type {\n",
       "        vertical-align: middle;\n",
       "    }\n",
       "\n",
       "    .dataframe tbody tr th {\n",
       "        vertical-align: top;\n",
       "    }\n",
       "\n",
       "    .dataframe thead th {\n",
       "        text-align: right;\n",
       "    }\n",
       "</style>\n",
       "<table border=\"1\" class=\"dataframe\">\n",
       "  <thead>\n",
       "    <tr style=\"text-align: right;\">\n",
       "      <th></th>\n",
       "      <th>match</th>\n",
       "      <th>eyediff</th>\n",
       "      <th>nosecheekdiff</th>\n",
       "      <th>variabilityratio</th>\n",
       "    </tr>\n",
       "  </thead>\n",
       "  <tbody>\n",
       "    <tr>\n",
       "      <th>0</th>\n",
       "      <td>1</td>\n",
       "      <td>0.009683</td>\n",
       "      <td>0.027914</td>\n",
       "      <td>1.086204</td>\n",
       "    </tr>\n",
       "    <tr>\n",
       "      <th>1</th>\n",
       "      <td>1</td>\n",
       "      <td>0.027614</td>\n",
       "      <td>0.017821</td>\n",
       "      <td>0.989840</td>\n",
       "    </tr>\n",
       "    <tr>\n",
       "      <th>2</th>\n",
       "      <td>1</td>\n",
       "      <td>0.015367</td>\n",
       "      <td>0.025832</td>\n",
       "      <td>1.010983</td>\n",
       "    </tr>\n",
       "    <tr>\n",
       "      <th>3</th>\n",
       "      <td>1</td>\n",
       "      <td>0.013371</td>\n",
       "      <td>0.024048</td>\n",
       "      <td>1.012724</td>\n",
       "    </tr>\n",
       "    <tr>\n",
       "      <th>4</th>\n",
       "      <td>1</td>\n",
       "      <td>0.011428</td>\n",
       "      <td>0.017801</td>\n",
       "      <td>1.044396</td>\n",
       "    </tr>\n",
       "  </tbody>\n",
       "</table>\n",
       "</div>"
      ],
      "text/plain": [
       "   match   eyediff  nosecheekdiff  variabilityratio\n",
       "0      1  0.009683       0.027914          1.086204\n",
       "1      1  0.027614       0.017821          0.989840\n",
       "2      1  0.015367       0.025832          1.010983\n",
       "3      1  0.013371       0.024048          1.012724\n",
       "4      1  0.011428       0.017801          1.044396"
      ]
     },
     "execution_count": 3,
     "metadata": {},
     "output_type": "execute_result"
    }
   ],
   "source": [
    "data = pd.read_table(\"facerecognition.dat\", sep=\"\\s+\")\n",
    "data.head()"
   ]
  },
  {
   "cell_type": "markdown",
   "metadata": {},
   "source": [
    "The number of observations"
   ]
  },
  {
   "cell_type": "code",
   "execution_count": 4,
   "metadata": {},
   "outputs": [
    {
     "data": {
      "text/plain": [
       "1042"
      ]
     },
     "execution_count": 4,
     "metadata": {},
     "output_type": "execute_result"
    }
   ],
   "source": [
    "n = len(data)\n",
    "n"
   ]
  },
  {
   "cell_type": "markdown",
   "metadata": {},
   "source": [
    "The number of Iterations"
   ]
  },
  {
   "cell_type": "code",
   "execution_count": 5,
   "metadata": {},
   "outputs": [],
   "source": [
    "itt = 30"
   ]
  },
  {
   "cell_type": "markdown",
   "metadata": {},
   "source": [
    "The observed response data (1=correct match)"
   ]
  },
  {
   "cell_type": "code",
   "execution_count": 6,
   "metadata": {
    "scrolled": true
   },
   "outputs": [
    {
     "data": {
      "text/plain": [
       "0    1\n",
       "1    1\n",
       "2    1\n",
       "3    1\n",
       "4    1\n",
       "Name: match, dtype: int64"
      ]
     },
     "execution_count": 6,
     "metadata": {},
     "output_type": "execute_result"
    }
   ],
   "source": [
    "y = data['match']\n",
    "y.head()"
   ]
  },
  {
   "cell_type": "markdown",
   "metadata": {},
   "source": [
    "Main function"
   ]
  },
  {
   "cell_type": "code",
   "execution_count": 7,
   "metadata": {
    "scrolled": false
   },
   "outputs": [
    {
     "name": "stdout",
     "output_type": "stream",
     "text": [
      "|   Iteration Number | Beta                    | Hessian Inverse             |\n",
      "|--------------------+-------------------------+-----------------------------|\n",
      "|                  0 | 0    0.95913            | [[-0.01096355  0.11774922]  |\n",
      "|                    | 1    0.00000            |  [ 0.11774922 -2.24636741]] |\n",
      "|                    | Name: 0, dtype: float64 |                             |\n",
      "|   Iteration Number | Beta                    | Hessian Inverse             |\n",
      "|--------------------+-------------------------+-----------------------------|\n",
      "|                  1 | 0     1.720288          | [[-0.01376919  0.14444378]  |\n",
      "|                    | 1   -13.909631          |  [ 0.14444378 -2.43426036]] |\n",
      "|                    | Name: 1, dtype: float64 |                             |\n",
      "|   Iteration Number | Beta                    | Hessian Inverse             |\n",
      "|--------------------+-------------------------+-----------------------------|\n",
      "|                  2 | 0     1.757220          | [[-0.01399076  0.14439871]  |\n",
      "|                    | 1   -13.383899          |  [ 0.14439871 -2.40178607]] |\n",
      "|                    | Name: 2, dtype: float64 |                             |\n",
      "|   Iteration Number | Beta                    | Hessian Inverse             |\n",
      "|--------------------+-------------------------+-----------------------------|\n",
      "|                  3 | 0     1.758701          | [[-0.01400062  0.1445039 ]  |\n",
      "|                    | 1   -13.400034          |  [ 0.1445039  -2.40316643]] |\n",
      "|                    | Name: 3, dtype: float64 |                             |\n",
      "|   Iteration Number | Beta                    | Hessian Inverse             |\n",
      "|--------------------+-------------------------+-----------------------------|\n",
      "|                  4 | 0     1.758701          | [[-0.01400062  0.14450394]  |\n",
      "|                    | 1   -13.400040          |  [ 0.14450394 -2.40316692]] |\n",
      "|                    | Name: 4, dtype: float64 |                             |\n",
      "|   Iteration Number | Beta                    | Hessian Inverse             |\n",
      "|--------------------+-------------------------+-----------------------------|\n",
      "|                  5 | 0     1.758701          | [[-0.01400062  0.14450394]  |\n",
      "|                    | 1   -13.400040          |  [ 0.14450394 -2.40316692]] |\n",
      "|                    | Name: 5, dtype: float64 |                             |\n",
      "|   Iteration Number | Beta                    | Hessian Inverse             |\n",
      "|--------------------+-------------------------+-----------------------------|\n",
      "|                  6 | 0     1.758701          | [[-0.01400062  0.14450394]  |\n",
      "|                    | 1   -13.400040          |  [ 0.14450394 -2.40316692]] |\n",
      "|                    | Name: 6, dtype: float64 |                             |\n",
      "|   Iteration Number | Beta                    | Hessian Inverse             |\n",
      "|--------------------+-------------------------+-----------------------------|\n",
      "|                  7 | 0     1.758701          | [[-0.01400062  0.14450394]  |\n",
      "|                    | 1   -13.400040          |  [ 0.14450394 -2.40316692]] |\n",
      "|                    | Name: 7, dtype: float64 |                             |\n",
      "|   Iteration Number | Beta                    | Hessian Inverse             |\n",
      "|--------------------+-------------------------+-----------------------------|\n",
      "|                  8 | 0     1.758701          | [[-0.01400062  0.14450394]  |\n",
      "|                    | 1   -13.400040          |  [ 0.14450394 -2.40316692]] |\n",
      "|                    | Name: 8, dtype: float64 |                             |\n",
      "|   Iteration Number | Beta                    | Hessian Inverse             |\n",
      "|--------------------+-------------------------+-----------------------------|\n",
      "|                  9 | 0     1.758701          | [[-0.01400062  0.14450394]  |\n",
      "|                    | 1   -13.400040          |  [ 0.14450394 -2.40316692]] |\n",
      "|                    | Name: 9, dtype: float64 |                             |\n",
      "|   Iteration Number | Beta                     | Hessian Inverse             |\n",
      "|--------------------+--------------------------+-----------------------------|\n",
      "|                 10 | 0     1.758701           | [[-0.01400062  0.14450394]  |\n",
      "|                    | 1   -13.400040           |  [ 0.14450394 -2.40316692]] |\n",
      "|                    | Name: 10, dtype: float64 |                             |\n",
      "|   Iteration Number | Beta                     | Hessian Inverse             |\n",
      "|--------------------+--------------------------+-----------------------------|\n",
      "|                 11 | 0     1.758701           | [[-0.01400062  0.14450394]  |\n",
      "|                    | 1   -13.400040           |  [ 0.14450394 -2.40316692]] |\n",
      "|                    | Name: 11, dtype: float64 |                             |\n",
      "|   Iteration Number | Beta                     | Hessian Inverse             |\n",
      "|--------------------+--------------------------+-----------------------------|\n",
      "|                 12 | 0     1.758701           | [[-0.01400062  0.14450394]  |\n",
      "|                    | 1   -13.400040           |  [ 0.14450394 -2.40316692]] |\n",
      "|                    | Name: 12, dtype: float64 |                             |\n",
      "|   Iteration Number | Beta                     | Hessian Inverse             |\n",
      "|--------------------+--------------------------+-----------------------------|\n",
      "|                 13 | 0     1.758701           | [[-0.01400062  0.14450394]  |\n",
      "|                    | 1   -13.400040           |  [ 0.14450394 -2.40316692]] |\n",
      "|                    | Name: 13, dtype: float64 |                             |\n",
      "|   Iteration Number | Beta                     | Hessian Inverse             |\n",
      "|--------------------+--------------------------+-----------------------------|\n",
      "|                 14 | 0     1.758701           | [[-0.01400062  0.14450394]  |\n",
      "|                    | 1   -13.400040           |  [ 0.14450394 -2.40316692]] |\n",
      "|                    | Name: 14, dtype: float64 |                             |\n",
      "|   Iteration Number | Beta                     | Hessian Inverse             |\n",
      "|--------------------+--------------------------+-----------------------------|\n",
      "|                 15 | 0     1.758701           | [[-0.01400062  0.14450394]  |\n",
      "|                    | 1   -13.400040           |  [ 0.14450394 -2.40316692]] |\n",
      "|                    | Name: 15, dtype: float64 |                             |\n",
      "|   Iteration Number | Beta                     | Hessian Inverse             |\n",
      "|--------------------+--------------------------+-----------------------------|\n",
      "|                 16 | 0     1.758701           | [[-0.01400062  0.14450394]  |\n",
      "|                    | 1   -13.400040           |  [ 0.14450394 -2.40316692]] |\n",
      "|                    | Name: 16, dtype: float64 |                             |\n",
      "|   Iteration Number | Beta                     | Hessian Inverse             |\n",
      "|--------------------+--------------------------+-----------------------------|\n",
      "|                 17 | 0     1.758701           | [[-0.01400062  0.14450394]  |\n",
      "|                    | 1   -13.400040           |  [ 0.14450394 -2.40316692]] |\n",
      "|                    | Name: 17, dtype: float64 |                             |\n",
      "|   Iteration Number | Beta                     | Hessian Inverse             |\n",
      "|--------------------+--------------------------+-----------------------------|\n",
      "|                 18 | 0     1.758701           | [[-0.01400062  0.14450394]  |\n",
      "|                    | 1   -13.400040           |  [ 0.14450394 -2.40316692]] |\n",
      "|                    | Name: 18, dtype: float64 |                             |\n",
      "|   Iteration Number | Beta                     | Hessian Inverse             |\n",
      "|--------------------+--------------------------+-----------------------------|\n",
      "|                 19 | 0     1.758701           | [[-0.01400062  0.14450394]  |\n",
      "|                    | 1   -13.400040           |  [ 0.14450394 -2.40316692]] |\n",
      "|                    | Name: 19, dtype: float64 |                             |\n",
      "|   Iteration Number | Beta                     | Hessian Inverse             |\n",
      "|--------------------+--------------------------+-----------------------------|\n",
      "|                 20 | 0     1.758701           | [[-0.01400062  0.14450394]  |\n",
      "|                    | 1   -13.400040           |  [ 0.14450394 -2.40316692]] |\n",
      "|                    | Name: 20, dtype: float64 |                             |\n",
      "|   Iteration Number | Beta                     | Hessian Inverse             |\n",
      "|--------------------+--------------------------+-----------------------------|\n",
      "|                 21 | 0     1.758701           | [[-0.01400062  0.14450394]  |\n",
      "|                    | 1   -13.400040           |  [ 0.14450394 -2.40316692]] |\n",
      "|                    | Name: 21, dtype: float64 |                             |\n",
      "|   Iteration Number | Beta                     | Hessian Inverse             |\n",
      "|--------------------+--------------------------+-----------------------------|\n",
      "|                 22 | 0     1.758701           | [[-0.01400062  0.14450394]  |\n",
      "|                    | 1   -13.400040           |  [ 0.14450394 -2.40316692]] |\n",
      "|                    | Name: 22, dtype: float64 |                             |\n",
      "|   Iteration Number | Beta                     | Hessian Inverse             |\n",
      "|--------------------+--------------------------+-----------------------------|\n",
      "|                 23 | 0     1.758701           | [[-0.01400062  0.14450394]  |\n",
      "|                    | 1   -13.400040           |  [ 0.14450394 -2.40316692]] |\n",
      "|                    | Name: 23, dtype: float64 |                             |\n",
      "|   Iteration Number | Beta                     | Hessian Inverse             |\n",
      "|--------------------+--------------------------+-----------------------------|\n",
      "|                 24 | 0     1.758701           | [[-0.01400062  0.14450394]  |\n",
      "|                    | 1   -13.400040           |  [ 0.14450394 -2.40316692]] |\n"
     ]
    },
    {
     "name": "stdout",
     "output_type": "stream",
     "text": [
      "|                    | Name: 24, dtype: float64 |                             |\n",
      "|   Iteration Number | Beta                     | Hessian Inverse             |\n",
      "|--------------------+--------------------------+-----------------------------|\n",
      "|                 25 | 0     1.758701           | [[-0.01400062  0.14450394]  |\n",
      "|                    | 1   -13.400040           |  [ 0.14450394 -2.40316692]] |\n",
      "|                    | Name: 25, dtype: float64 |                             |\n",
      "|   Iteration Number | Beta                     | Hessian Inverse             |\n",
      "|--------------------+--------------------------+-----------------------------|\n",
      "|                 26 | 0     1.758701           | [[-0.01400062  0.14450394]  |\n",
      "|                    | 1   -13.400040           |  [ 0.14450394 -2.40316692]] |\n",
      "|                    | Name: 26, dtype: float64 |                             |\n",
      "|   Iteration Number | Beta                     | Hessian Inverse             |\n",
      "|--------------------+--------------------------+-----------------------------|\n",
      "|                 27 | 0     1.758701           | [[-0.01400062  0.14450394]  |\n",
      "|                    | 1   -13.400040           |  [ 0.14450394 -2.40316692]] |\n",
      "|                    | Name: 27, dtype: float64 |                             |\n",
      "|   Iteration Number | Beta                     | Hessian Inverse             |\n",
      "|--------------------+--------------------------+-----------------------------|\n",
      "|                 28 | 0     1.758701           | [[-0.01400062  0.14450394]  |\n",
      "|                    | 1   -13.400040           |  [ 0.14450394 -2.40316692]] |\n",
      "|                    | Name: 28, dtype: float64 |                             |\n",
      "|   Iteration Number | Beta                     | Hessian Inverse             |\n",
      "|--------------------+--------------------------+-----------------------------|\n",
      "|                 29 | 0     1.758701           | [[-0.01400062  0.14450394]  |\n",
      "|                    | 1   -13.400040           |  [ 0.14450394 -2.40316692]] |\n",
      "|                    | Name: 29, dtype: float64 |                             |\n"
     ]
    }
   ],
   "source": [
    "def IRLS(start): \n",
    "    ## The covariate matrix ##\n",
    "    z = pd.DataFrame(data['eyediff'])\n",
    "    z.insert(0,'ones',1)\n",
    "    ## The weights ##\n",
    "    w = pd.DataFrame({ 'W' : np.zeros(n)})\n",
    "    ## The beta estimates at each iteration ##\n",
    "    beta = pd.DataFrame(np.zeros((itt + 1, 2)))\n",
    "    ## The pi estimates at each iteration ##\n",
    "    pi = pd.DataFrame({ 'pi' : np.zeros(n)})\n",
    "    ## starting guess: \n",
    "    beta[0][0] = start\n",
    "    i = 0 \n",
    "    HinvList = []\n",
    "    for i in range(itt):\n",
    "        pi = 1/(1+np.exp(-1*np.dot(z,beta.iloc[i])))\n",
    "        w = pi*(1-pi)\n",
    "        hessian = pd.DataFrame(np.zeros((2, 2)))\n",
    "        hessian[0][0] = -np.sum(w)\n",
    "        hessian[0][1] = -np.dot(pd.DataFrame(w).transpose(), z.iloc[:,1])\n",
    "        hessian[1][0] = -np.dot(pd.DataFrame(w).transpose(), z.iloc[:,1])\n",
    "        hessian[1][1] = -np.dot(pd.DataFrame(w).transpose(), (z.iloc[:,1])**2) \n",
    "        invH = np.linalg.inv(hessian)\n",
    "        score = np.dot(pd.DataFrame(z).transpose(), (y-pi))\n",
    "        betas = beta.iloc[i]-(np.dot(invH, score))\n",
    "        beta.iloc[i+1,:] = betas\n",
    "        print(tb([[i, beta.iloc[i,:], invH]], headers=[\"Iteration Number\", \"Beta\", \"Hessian Inverse\"],tablefmt='orgtbl'))\n",
    "    return beta, HinvList \n",
    "beta00, HinvList = IRLS(0.95913)    \n",
    "#beta0 = pd.DataFrame(beta0)\n",
    "#beta0.rename(columns={0: \"Beta\", 1: \"Beta\"})\n",
    "#HinvList = pd.DataFrame(HinvList)\n",
    "#HinvList.rename(columns={0: \"hessian inverse\", 1: \"hessian inverse\"})\n",
    "#print(tb(HinvList))"
   ]
  },
  {
   "cell_type": "markdown",
   "metadata": {},
   "source": [
    "(b) Print your result in the format of table 2.1, using starting value β(0) = (β0(0); β1(0))T =\n",
    "(0; 0)T , which means πi = 0:5 for all i at iteration 0."
   ]
  },
  {
   "cell_type": "code",
   "execution_count": 8,
   "metadata": {
    "scrolled": false
   },
   "outputs": [
    {
     "name": "stdout",
     "output_type": "stream",
     "text": [
      "|   Iteration Number | Beta                    | Hessian Inverse             |\n",
      "|--------------------+-------------------------+-----------------------------|\n",
      "|                  0 | 0    0.0                | [[-0.00878375  0.09433803]  |\n",
      "|                    | 1    0.0                |  [ 0.09433803 -1.79973903]] |\n",
      "|                    | Name: 0, dtype: float64 |                             |\n",
      "|   Iteration Number | Beta                    | Hessian Inverse             |\n",
      "|--------------------+-------------------------+-----------------------------|\n",
      "|                  1 | 0     1.501613          | [[-0.01246462  0.12936371]  |\n",
      "|                    | 1   -11.144084          |  [ 0.12936371 -2.21900238]] |\n",
      "|                    | Name: 1, dtype: float64 |                             |\n",
      "|   Iteration Number | Beta                    | Hessian Inverse             |\n",
      "|--------------------+-------------------------+-----------------------------|\n",
      "|                  2 | 0     1.744403          | [[-0.01390619  0.14355394]  |\n",
      "|                    | 1   -13.266691          |  [ 0.14355394 -2.39141906]] |\n",
      "|                    | Name: 2, dtype: float64 |                             |\n",
      "|   Iteration Number | Beta                    | Hessian Inverse             |\n",
      "|--------------------+-------------------------+-----------------------------|\n",
      "|                  3 | 0     1.758653          | [[-0.0140003   0.14450065]  |\n",
      "|                    | 1   -13.399570          |  [ 0.14450065 -2.40312566]] |\n",
      "|                    | Name: 3, dtype: float64 |                             |\n",
      "|   Iteration Number | Beta                    | Hessian Inverse             |\n",
      "|--------------------+-------------------------+-----------------------------|\n",
      "|                  4 | 0     1.758701          | [[-0.01400062  0.14450394]  |\n",
      "|                    | 1   -13.400040          |  [ 0.14450394 -2.40316692]] |\n",
      "|                    | Name: 4, dtype: float64 |                             |\n",
      "|   Iteration Number | Beta                    | Hessian Inverse             |\n",
      "|--------------------+-------------------------+-----------------------------|\n",
      "|                  5 | 0     1.758701          | [[-0.01400062  0.14450394]  |\n",
      "|                    | 1   -13.400040          |  [ 0.14450394 -2.40316692]] |\n",
      "|                    | Name: 5, dtype: float64 |                             |\n",
      "|   Iteration Number | Beta                    | Hessian Inverse             |\n",
      "|--------------------+-------------------------+-----------------------------|\n",
      "|                  6 | 0     1.758701          | [[-0.01400062  0.14450394]  |\n",
      "|                    | 1   -13.400040          |  [ 0.14450394 -2.40316692]] |\n",
      "|                    | Name: 6, dtype: float64 |                             |\n",
      "|   Iteration Number | Beta                    | Hessian Inverse             |\n",
      "|--------------------+-------------------------+-----------------------------|\n",
      "|                  7 | 0     1.758701          | [[-0.01400062  0.14450394]  |\n",
      "|                    | 1   -13.400040          |  [ 0.14450394 -2.40316692]] |\n",
      "|                    | Name: 7, dtype: float64 |                             |\n",
      "|   Iteration Number | Beta                    | Hessian Inverse             |\n",
      "|--------------------+-------------------------+-----------------------------|\n",
      "|                  8 | 0     1.758701          | [[-0.01400062  0.14450394]  |\n",
      "|                    | 1   -13.400040          |  [ 0.14450394 -2.40316692]] |\n",
      "|                    | Name: 8, dtype: float64 |                             |\n",
      "|   Iteration Number | Beta                    | Hessian Inverse             |\n",
      "|--------------------+-------------------------+-----------------------------|\n",
      "|                  9 | 0     1.758701          | [[-0.01400062  0.14450394]  |\n",
      "|                    | 1   -13.400040          |  [ 0.14450394 -2.40316692]] |\n",
      "|                    | Name: 9, dtype: float64 |                             |\n",
      "|   Iteration Number | Beta                     | Hessian Inverse             |\n",
      "|--------------------+--------------------------+-----------------------------|\n",
      "|                 10 | 0     1.758701           | [[-0.01400062  0.14450394]  |\n",
      "|                    | 1   -13.400040           |  [ 0.14450394 -2.40316692]] |\n",
      "|                    | Name: 10, dtype: float64 |                             |\n",
      "|   Iteration Number | Beta                     | Hessian Inverse             |\n",
      "|--------------------+--------------------------+-----------------------------|\n",
      "|                 11 | 0     1.758701           | [[-0.01400062  0.14450394]  |\n",
      "|                    | 1   -13.400040           |  [ 0.14450394 -2.40316692]] |\n",
      "|                    | Name: 11, dtype: float64 |                             |\n",
      "|   Iteration Number | Beta                     | Hessian Inverse             |\n",
      "|--------------------+--------------------------+-----------------------------|\n",
      "|                 12 | 0     1.758701           | [[-0.01400062  0.14450394]  |\n",
      "|                    | 1   -13.400040           |  [ 0.14450394 -2.40316692]] |\n",
      "|                    | Name: 12, dtype: float64 |                             |\n",
      "|   Iteration Number | Beta                     | Hessian Inverse             |\n",
      "|--------------------+--------------------------+-----------------------------|\n",
      "|                 13 | 0     1.758701           | [[-0.01400062  0.14450394]  |\n",
      "|                    | 1   -13.400040           |  [ 0.14450394 -2.40316692]] |\n",
      "|                    | Name: 13, dtype: float64 |                             |\n",
      "|   Iteration Number | Beta                     | Hessian Inverse             |\n",
      "|--------------------+--------------------------+-----------------------------|\n",
      "|                 14 | 0     1.758701           | [[-0.01400062  0.14450394]  |\n",
      "|                    | 1   -13.400040           |  [ 0.14450394 -2.40316692]] |\n",
      "|                    | Name: 14, dtype: float64 |                             |\n",
      "|   Iteration Number | Beta                     | Hessian Inverse             |\n",
      "|--------------------+--------------------------+-----------------------------|\n",
      "|                 15 | 0     1.758701           | [[-0.01400062  0.14450394]  |\n",
      "|                    | 1   -13.400040           |  [ 0.14450394 -2.40316692]] |\n",
      "|                    | Name: 15, dtype: float64 |                             |\n",
      "|   Iteration Number | Beta                     | Hessian Inverse             |\n",
      "|--------------------+--------------------------+-----------------------------|\n",
      "|                 16 | 0     1.758701           | [[-0.01400062  0.14450394]  |\n",
      "|                    | 1   -13.400040           |  [ 0.14450394 -2.40316692]] |\n",
      "|                    | Name: 16, dtype: float64 |                             |\n",
      "|   Iteration Number | Beta                     | Hessian Inverse             |\n",
      "|--------------------+--------------------------+-----------------------------|\n",
      "|                 17 | 0     1.758701           | [[-0.01400062  0.14450394]  |\n",
      "|                    | 1   -13.400040           |  [ 0.14450394 -2.40316692]] |\n",
      "|                    | Name: 17, dtype: float64 |                             |\n",
      "|   Iteration Number | Beta                     | Hessian Inverse             |\n",
      "|--------------------+--------------------------+-----------------------------|\n",
      "|                 18 | 0     1.758701           | [[-0.01400062  0.14450394]  |\n",
      "|                    | 1   -13.400040           |  [ 0.14450394 -2.40316692]] |\n",
      "|                    | Name: 18, dtype: float64 |                             |\n",
      "|   Iteration Number | Beta                     | Hessian Inverse             |\n",
      "|--------------------+--------------------------+-----------------------------|\n",
      "|                 19 | 0     1.758701           | [[-0.01400062  0.14450394]  |\n",
      "|                    | 1   -13.400040           |  [ 0.14450394 -2.40316692]] |\n",
      "|                    | Name: 19, dtype: float64 |                             |\n",
      "|   Iteration Number | Beta                     | Hessian Inverse             |\n",
      "|--------------------+--------------------------+-----------------------------|\n",
      "|                 20 | 0     1.758701           | [[-0.01400062  0.14450394]  |\n",
      "|                    | 1   -13.400040           |  [ 0.14450394 -2.40316692]] |\n",
      "|                    | Name: 20, dtype: float64 |                             |\n",
      "|   Iteration Number | Beta                     | Hessian Inverse             |\n",
      "|--------------------+--------------------------+-----------------------------|\n",
      "|                 21 | 0     1.758701           | [[-0.01400062  0.14450394]  |\n",
      "|                    | 1   -13.400040           |  [ 0.14450394 -2.40316692]] |\n"
     ]
    },
    {
     "name": "stdout",
     "output_type": "stream",
     "text": [
      "|                    | Name: 21, dtype: float64 |                             |\n",
      "|   Iteration Number | Beta                     | Hessian Inverse             |\n",
      "|--------------------+--------------------------+-----------------------------|\n",
      "|                 22 | 0     1.758701           | [[-0.01400062  0.14450394]  |\n",
      "|                    | 1   -13.400040           |  [ 0.14450394 -2.40316692]] |\n",
      "|                    | Name: 22, dtype: float64 |                             |\n",
      "|   Iteration Number | Beta                     | Hessian Inverse             |\n",
      "|--------------------+--------------------------+-----------------------------|\n",
      "|                 23 | 0     1.758701           | [[-0.01400062  0.14450394]  |\n",
      "|                    | 1   -13.400040           |  [ 0.14450394 -2.40316692]] |\n",
      "|                    | Name: 23, dtype: float64 |                             |\n",
      "|   Iteration Number | Beta                     | Hessian Inverse             |\n",
      "|--------------------+--------------------------+-----------------------------|\n",
      "|                 24 | 0     1.758701           | [[-0.01400062  0.14450394]  |\n",
      "|                    | 1   -13.400040           |  [ 0.14450394 -2.40316692]] |\n",
      "|                    | Name: 24, dtype: float64 |                             |\n",
      "|   Iteration Number | Beta                     | Hessian Inverse             |\n",
      "|--------------------+--------------------------+-----------------------------|\n",
      "|                 25 | 0     1.758701           | [[-0.01400062  0.14450394]  |\n",
      "|                    | 1   -13.400040           |  [ 0.14450394 -2.40316692]] |\n",
      "|                    | Name: 25, dtype: float64 |                             |\n",
      "|   Iteration Number | Beta                     | Hessian Inverse             |\n",
      "|--------------------+--------------------------+-----------------------------|\n",
      "|                 26 | 0     1.758701           | [[-0.01400062  0.14450394]  |\n",
      "|                    | 1   -13.400040           |  [ 0.14450394 -2.40316692]] |\n",
      "|                    | Name: 26, dtype: float64 |                             |\n",
      "|   Iteration Number | Beta                     | Hessian Inverse             |\n",
      "|--------------------+--------------------------+-----------------------------|\n",
      "|                 27 | 0     1.758701           | [[-0.01400062  0.14450394]  |\n",
      "|                    | 1   -13.400040           |  [ 0.14450394 -2.40316692]] |\n",
      "|                    | Name: 27, dtype: float64 |                             |\n",
      "|   Iteration Number | Beta                     | Hessian Inverse             |\n",
      "|--------------------+--------------------------+-----------------------------|\n",
      "|                 28 | 0     1.758701           | [[-0.01400062  0.14450394]  |\n",
      "|                    | 1   -13.400040           |  [ 0.14450394 -2.40316692]] |\n",
      "|                    | Name: 28, dtype: float64 |                             |\n",
      "|   Iteration Number | Beta                     | Hessian Inverse             |\n",
      "|--------------------+--------------------------+-----------------------------|\n",
      "|                 29 | 0     1.758701           | [[-0.01400062  0.14450394]  |\n",
      "|                    | 1   -13.400040           |  [ 0.14450394 -2.40316692]] |\n",
      "|                    | Name: 29, dtype: float64 |                             |\n"
     ]
    }
   ],
   "source": [
    "beta11, HinvList = IRLS(0)  "
   ]
  },
  {
   "cell_type": "markdown",
   "metadata": {},
   "source": [
    "(c) Making a single plot similar to Figure 2.7 showing the solution paths in part (a) and part\n",
    "(b)."
   ]
  },
  {
   "cell_type": "markdown",
   "metadata": {},
   "source": [
    "First estimate the log likelihood values for the figure:"
   ]
  },
  {
   "cell_type": "code",
   "execution_count": 9,
   "metadata": {},
   "outputs": [],
   "source": [
    "def llFunc (y, X, B):\n",
    "    X.insert(0,'X0',1)\n",
    "    p = 1/(1+np.exp(-1*np.dot(X,B)))\n",
    "    logL = np.dot(np.dot((y.T), X),B) - np.sum(-np.log(1-p))\n",
    "    return logL"
   ]
  },
  {
   "cell_type": "code",
   "execution_count": 10,
   "metadata": {},
   "outputs": [],
   "source": [
    "i = 0\n",
    "beta0 = np.linspace(-10,10,100)\n",
    "beta1 = np.linspace(-40,40,100)\n",
    "betaX, betaY = np.meshgrid(beta0, beta1)\n",
    "likelihood_space = np.full_like(betaX, np.nan, dtype=float)\n",
    "for i in range(betaX.size):\n",
    "    B = (betaX.flat[i], betaY.flat[i])\n",
    "    likelihood_space.flat[i] = llFunc(pd.DataFrame(data['match']),pd.DataFrame(data['eyediff']),pd.DataFrame(B))\n"
   ]
  },
  {
   "cell_type": "markdown",
   "metadata": {},
   "source": [
    "Now start plotting:"
   ]
  },
  {
   "cell_type": "code",
   "execution_count": 11,
   "metadata": {
    "scrolled": false
   },
   "outputs": [
    {
     "data": {
      "image/png": "[encoded data removed]",
      "text/plain": [
       "<Figure size 1440x720 with 1 Axes>"
      ]
     },
     "metadata": {
      "needs_background": "light"
     },
     "output_type": "display_data"
    }
   ],
   "source": [
    "plt.figure(figsize=(20,10))\n",
    "W0 = np.array(beta00)\n",
    "W1 = np.array(beta11)\n",
    "cp = plt.contour(betaX, betaY, likelihood_space, colors='black', linestyles='dashed', linewidths=1)\n",
    "plt.clabel(cp, inline=1, fontsize=20)\n",
    "for i in range(len(beta00) - 1):\n",
    "    plt.annotate('', xy=W0[i + 1, :], xytext=W0[i, :], arrowprops={'arrowstyle': '->', 'color': 'k', 'lw': 1}, va='center', ha='center')\n",
    "for i in range(len(beta11) - 1):\n",
    "    plt.annotate('', xy=W1[i + 1, :], xytext=W1[i, :], arrowprops={'arrowstyle': '->', 'color': 'b', 'lw': 1}, va='center', ha='center')\n",
    "plt.text(0, 1, r'$\\beta_0$', verticalalignment='center', fontsize=20,color='b')\n",
    "plt.text(1, 0.25, r'$\\beta_1$', horizontalalignment='center', fontsize=20,color='k')\n",
    "cp = plt.contourf(betaX, betaY, likelihood_space, )\n",
    "plt.xlabel(r'$\\beta_0$',fontsize=20)\n",
    "plt.ylabel(r'$\\beta_1$',fontsize=20)\n",
    "plt.show()"
   ]
  },
  {
   "cell_type": "markdown",
   "metadata": {},
   "source": [
    "**(2)** Problem 2.1 on page 54 of the Computation Statistics book"
   ]
  },
  {
   "cell_type": "code",
   "execution_count": 12,
   "metadata": {},
   "outputs": [],
   "source": [
    "x = [1.77, -0.23, 2.76, 3.80, 3.47, 56.75, -1.34, 4.24, -2.44, 3.29, 3.71, -2.40, 4.53, -0.07, -1.05, -13.87, -2.53, -1.75, 0.27, 43.21]"
   ]
  },
  {
   "cell_type": "markdown",
   "metadata": {},
   "source": [
    "a. Graph the log likelihood function. Find the MLE for θ using the Newton–Raphson\n",
    "method. Try all of the following starting points: −11, −1, 0, 1.5, 4, 4.7, 7, 8, and 38. Discuss your results. Is the mean of the data a good starting point?"
   ]
  },
  {
   "cell_type": "code",
   "execution_count": 13,
   "metadata": {},
   "outputs": [],
   "source": [
    "start = [-11, -1, 0, 1.5, 4, 4.7, 7, 8, 38]"
   ]
  },
  {
   "cell_type": "markdown",
   "metadata": {},
   "source": [
    "The likelihood function is computed as:"
   ]
  },
  {
   "cell_type": "markdown",
   "metadata": {},
   "source": [
    "\\begin{equation*}\n",
    "L(\\theta) = \\prod_{i=1}^{n} f(x_i|\\theta) = \\frac{1}{\\pi^n} \\prod_{i=1}^{n} \\frac{1}{\\left(1 + \\left(x_i - \\theta \\right)^2 \\right)}\n",
    "\\end{equation*}"
   ]
  },
  {
   "cell_type": "markdown",
   "metadata": {},
   "source": [
    "\\begin{equation*}\n",
    "l(\\theta) = -n\\log(\\pi) - \\sum_{i=1}^{n} \\log\\left(1 + \\left(x_i - \\theta \\right)^2 \\right)\n",
    "\\end{equation*}"
   ]
  },
  {
   "cell_type": "markdown",
   "metadata": {},
   "source": [
    "\\begin{equation*}\n",
    "l'(\\theta) = \\frac{dl(\\theta)}{d\\theta} = \\sum_{i=1}^{n} \\frac{ 2\\left(x_i - \\theta \\right)}{\\left(1 + \\left(x_i - \\theta \\right)^2 \\right)}\n",
    "\\end{equation*}"
   ]
  },
  {
   "cell_type": "markdown",
   "metadata": {},
   "source": [
    "\\begin{equation*}\n",
    "l\"(\\theta) = \\frac{dl^2(\\theta)}{d\\theta} = 2\\sum_{i=1}^{n} \\frac{\\left(x_i - \\theta \\right)^2 - 1}{\\left(1 + \\left(x_i - \\theta \\right)^2 \\right)^2}\n",
    "\\end{equation*}"
   ]
  },
  {
   "cell_type": "code",
   "execution_count": 14,
   "metadata": {},
   "outputs": [
    {
     "data": {
      "text/plain": [
       "Text(0, 0.5, '$\\\\log L(\\\\theta)$')"
      ]
     },
     "execution_count": 14,
     "metadata": {},
     "output_type": "execute_result"
    },
    {
     "data": {
      "image/png": "[encoded data removed]",
      "text/plain": [
       "<Figure size 1440x720 with 1 Axes>"
      ]
     },
     "metadata": {
      "needs_background": "light"
     },
     "output_type": "display_data"
    }
   ],
   "source": [
    "TtList = []\n",
    "def likFunc(tt): \n",
    "    for i in range(len(tt)):\n",
    "        Ttot = 1 \n",
    "        for j in range(len(x)):\n",
    "            Ttot += -np.log(1+((x[j]-tt[i])**2))\n",
    "        TtList.append(Ttot)    \n",
    "    return TtList \n",
    "\n",
    "t = np.arange(-100, 100, 0.001, 'float')\n",
    "l = likFunc(t)\n",
    "plt.figure(figsize=(20,10))\n",
    "plt.plot(t, l)\n",
    "plt.xlabel(r'$\\theta$',fontsize=20)\n",
    "plt.ylabel(r'$\\log L(\\theta)$',fontsize=20)"
   ]
  },
  {
   "cell_type": "code",
   "execution_count": 15,
   "metadata": {},
   "outputs": [
    {
     "data": {
      "text/plain": [
       "Text(0, 0.5, '$\\\\log L_{prime}(\\\\theta)$')"
      ]
     },
     "execution_count": 15,
     "metadata": {},
     "output_type": "execute_result"
    },
    {
     "data": {
      "image/png": "[encoded data removed]",
      "text/plain": [
       "<Figure size 1440x720 with 1 Axes>"
      ]
     },
     "metadata": {
      "needs_background": "light"
     },
     "output_type": "display_data"
    }
   ],
   "source": [
    "TtList = []\n",
    "def likFuncPrime(tt): \n",
    "    for i in range(len(tt)):\n",
    "        Ttot = 0 \n",
    "        for j in range(len(x)):\n",
    "            Ttot += 2*(-x[j]+tt[i])/(1+((x[j]-tt[i])**2))\n",
    "        TtList.append(Ttot)    \n",
    "    return TtList \n",
    "\n",
    "t = np.arange(-70, 70, 0.01, 'float')\n",
    "lp = likFuncPrime(t)\n",
    "plt.figure(figsize=(20,10))\n",
    "plt.plot(t, lp)\n",
    "plt.hlines(y=0,xmin=-70,xmax=70,color='r', linestyle='--')\n",
    "plt.xlabel(r'$\\theta$',fontsize=20)\n",
    "plt.ylabel(r'$\\log L_{prime}(\\theta)$',fontsize=20)"
   ]
  },
  {
   "cell_type": "code",
   "execution_count": 16,
   "metadata": {},
   "outputs": [],
   "source": [
    "def D1loglikFunc(tt): \n",
    "    Ttot = 0 \n",
    "    for j in range(len(x)):\n",
    "        Ttot += -2*(x[j]-tt)/(1+((x[j]-tt)**2))     \n",
    "    return Ttot \n",
    "\n",
    "def D2loglikFunc(tt): \n",
    "    Ttot = 0 \n",
    "    for j in range(len(x)):\n",
    "        Ttot += 2*(((-x[j]+tt)**2) - 1)/((1+((x[j]-tt)**2))**2)     \n",
    "    return Ttot \n",
    "\n",
    "def Step_Size2(tt):\n",
    "    return -D1loglikFunc(tt) / D2loglikFunc(tt)\n",
    "\n",
    "def NR(Start):\n",
    "    itt = 0\n",
    "    i = 0\n",
    "    eps = 0.001\n",
    "    xt = Start\n",
    "    xt_list = []\n",
    "    et_list = []\n",
    "    for i in range(10000):\n",
    "        xt0 = xt\n",
    "        xt = xt0 + Step_Size2(xt0)\n",
    "        error_criterion = np.absolute(xt - xt0)\n",
    "        itt = itt + 1\n",
    "        xt_list.append(xt0)\n",
    "        et_list.append(error_criterion)\n",
    "        if error_criterion < eps:\n",
    "            print('Solution found based on starting value of ' + str(Start) +  ' : ' + str(xt))\n",
    "            print('Itteration: ' + str(itt))\n",
    "            break\n",
    "        elif itt == 10000:\n",
    "            print(\"The maximum number of itterations reached!\") "
   ]
  },
  {
   "cell_type": "code",
   "execution_count": 17,
   "metadata": {},
   "outputs": [
    {
     "name": "stdout",
     "output_type": "stream",
     "text": [
      "Solution found based on starting value of -11 : 1.7154476609720652\n",
      "Itteration: 1317\n",
      "Solution found based on starting value of -1 : -0.1925168190899983\n",
      "Itteration: 1967\n",
      "Solution found based on starting value of 0 : 2.8178712279111506\n",
      "Itteration: 4343\n",
      "Solution found based on starting value of 1.5 : 2.8190236481654187\n",
      "Itteration: 391\n",
      "Solution found based on starting value of 4 : -0.19427163595915967\n",
      "Itteration: 331\n",
      "Solution found based on starting value of 4.7 : 2.8169508301336177\n",
      "Itteration: 688\n",
      "Solution found based on starting value of 7 : 2.81888532518953\n",
      "Itteration: 485\n",
      "Solution found based on starting value of 8 : 2.818205496717459\n",
      "Itteration: 53\n",
      "Solution found based on starting value of 38 : 1.714278765902548\n",
      "Itteration: 3557\n"
     ]
    }
   ],
   "source": [
    "for k in range(len(start)):\n",
    "    NR(start[k])"
   ]
  },
  {
   "cell_type": "markdown",
   "metadata": {},
   "source": [
    "The mean of Data:"
   ]
  },
  {
   "cell_type": "code",
   "execution_count": 18,
   "metadata": {},
   "outputs": [
    {
     "name": "stdout",
     "output_type": "stream",
     "text": [
      "Solution found based on starting value of 5.106 : -0.19341514490330625\n",
      "Itteration: 2977\n",
      "--- 0.4547152519226074 seconds ---\n"
     ]
    }
   ],
   "source": [
    "Meanx = np.mean(x)\n",
    "start_time = time.time()\n",
    "NR(Meanx)\n",
    "Newton_time = time.time() - start_time\n",
    "print(\"--- %s seconds ---\" % Newton_time)"
   ]
  },
  {
   "cell_type": "markdown",
   "metadata": {},
   "source": [
    "We can see that both results from having diffrent starting values and figures above that the score function has multiple roots and therefore depending on where the starting point is the solution may be a local or global maximum. "
   ]
  },
  {
   "cell_type": "markdown",
   "metadata": {},
   "source": [
    "b. Apply the bisection method with starting points −1 and 1. Use additional runs\n",
    "to illustrate manners in which the bisection method may fail to find the global\n",
    "maximum."
   ]
  },
  {
   "cell_type": "markdown",
   "metadata": {},
   "source": [
    "Initial guess:"
   ]
  },
  {
   "cell_type": "code",
   "execution_count": 19,
   "metadata": {},
   "outputs": [],
   "source": [
    "def Bisec(a, b, itr):\n",
    "    ans = a+(b-a)/2\n",
    "    for i in range(itr):\n",
    "        if (D1loglikFunc(a)*D1loglikFunc(ans) < 0):\n",
    "            b = ans\n",
    "        else:\n",
    "            a = ans\n",
    "        ans = a+(b-a)/2\n",
    "    return ans\n",
    "                         "
   ]
  },
  {
   "cell_type": "code",
   "execution_count": 20,
   "metadata": {
    "scrolled": true
   },
   "outputs": [
    {
     "name": "stdout",
     "output_type": "stream",
     "text": [
      "--- 0.0019981861114501953 seconds ---\n"
     ]
    }
   ],
   "source": [
    "start_time = time.time()\n",
    "ans = Bisec(-1, 1, 30)\n",
    "Bisection_time = time.time() - start_time\n",
    "print(\"--- %s seconds ---\" % Bisection_time)   "
   ]
  },
  {
   "cell_type": "code",
   "execution_count": 21,
   "metadata": {},
   "outputs": [
    {
     "data": {
      "text/plain": [
       "-0.19228661339730024"
      ]
     },
     "execution_count": 21,
     "metadata": {},
     "output_type": "execute_result"
    }
   ],
   "source": [
    "ans"
   ]
  },
  {
   "cell_type": "code",
   "execution_count": 22,
   "metadata": {},
   "outputs": [
    {
     "data": {
      "text/plain": [
       "2.8174721649847925"
      ]
     },
     "execution_count": 22,
     "metadata": {},
     "output_type": "execute_result"
    }
   ],
   "source": [
    "Bisec(-3, 8, 30)"
   ]
  },
  {
   "cell_type": "markdown",
   "metadata": {},
   "source": [
    "from the algorithem and the convergence of the bisection method we can see that If pur function has more than one root in the starting interval, it is easy to see that bisection will find one of them, but will not find the rest! So it is important to know that this method will be only be able to return a singel local or a golbal maximum."
   ]
  },
  {
   "cell_type": "markdown",
   "metadata": {},
   "source": [
    "c. Apply fixed-point iterations as in (2.29), starting from −1, with scaling choices\n",
    "of α = 1, 0.64, and 0.25. Investigate other choices of starting values and scaling\n",
    "factors."
   ]
  },
  {
   "cell_type": "markdown",
   "metadata": {},
   "source": [
    "Initial guess:"
   ]
  },
  {
   "cell_type": "code",
   "execution_count": 23,
   "metadata": {},
   "outputs": [],
   "source": [
    "alphas = [1, 0.64, 0.25]\n",
    "ans = -1\n",
    "itr = 10000\n"
   ]
  },
  {
   "cell_type": "code",
   "execution_count": 24,
   "metadata": {},
   "outputs": [],
   "source": [
    "def Fixed(alpha, ans, itr):\n",
    "    itt = 0\n",
    "    for i in range(itr):\n",
    "        ans0 = ans\n",
    "        ans = ans + (alpha * D1loglikFunc(ans))\n",
    "        error_criterion = np.absolute(ans - ans0)\n",
    "        itt = itt + 1\n",
    "        if error_criterion < 0.01:\n",
    "            print('Solution found based on alpha value of ' + str(alpha) + ' and iteration +' + str(itt) + ': ' + str(ans))\n",
    "            break\n",
    "        elif itt == 10000:\n",
    "            print(\"The maximum number of itterations reached!\") "
   ]
  },
  {
   "cell_type": "code",
   "execution_count": 25,
   "metadata": {},
   "outputs": [
    {
     "name": "stdout",
     "output_type": "stream",
     "text": [
      "The maximum number of itterations reached!\n"
     ]
    }
   ],
   "source": [
    "Fixed(alphas[0], ans, itr)"
   ]
  },
  {
   "cell_type": "code",
   "execution_count": 26,
   "metadata": {},
   "outputs": [
    {
     "name": "stdout",
     "output_type": "stream",
     "text": [
      "The maximum number of itterations reached!\n"
     ]
    }
   ],
   "source": [
    "Fixed(alphas[1], ans, itr)"
   ]
  },
  {
   "cell_type": "code",
   "execution_count": 27,
   "metadata": {},
   "outputs": [
    {
     "name": "stdout",
     "output_type": "stream",
     "text": [
      "The maximum number of itterations reached!\n"
     ]
    }
   ],
   "source": [
    "Fixed(alphas[2], ans, itr)"
   ]
  },
  {
   "cell_type": "markdown",
   "metadata": {},
   "source": [
    "With the starting point of -1 the algorithem does not converge, however, if we change the starting point to 1 we can see:"
   ]
  },
  {
   "cell_type": "code",
   "execution_count": 28,
   "metadata": {},
   "outputs": [],
   "source": [
    "ans = 1"
   ]
  },
  {
   "cell_type": "code",
   "execution_count": 29,
   "metadata": {},
   "outputs": [
    {
     "name": "stdout",
     "output_type": "stream",
     "text": [
      "Solution found based on alpha value of 1 and iteration +5: 1.7138700043932706\n"
     ]
    }
   ],
   "source": [
    "Fixed(alphas[0], ans, itr)"
   ]
  },
  {
   "cell_type": "code",
   "execution_count": 30,
   "metadata": {},
   "outputs": [
    {
     "name": "stdout",
     "output_type": "stream",
     "text": [
      "Solution found based on alpha value of 0.64 and iteration +2: 1.711876500354545\n"
     ]
    }
   ],
   "source": [
    "Fixed(alphas[1], ans, itr)"
   ]
  },
  {
   "cell_type": "code",
   "execution_count": 31,
   "metadata": {},
   "outputs": [
    {
     "name": "stdout",
     "output_type": "stream",
     "text": [
      "Solution found based on alpha value of 0.25 and iteration +10: 1.6848059758868772\n",
      "--- 0.0010006427764892578 seconds ---\n"
     ]
    }
   ],
   "source": [
    "start_time = time.time()\n",
    "Fixed(alphas[2], ans, itr)\n",
    "FixedPoin_time = time.time() - start_time\n",
    "print(\"--- %s seconds ---\" % FixedPoin_time)"
   ]
  },
  {
   "cell_type": "markdown",
   "metadata": {},
   "source": [
    "The reults indicate that the choice of the starting values is extremly important as in the first case chosing a starting value of `-1` regardless of the the choice of alpha result in algorithem not being able to converge! However, once the starting value is set to `1` the algorithem converges for diffrent values of alpha parameter. We can also see that the choice of alpha can significantly impact the reesults such that for the two cases of `[1, 0.64]` the algorithem finds a different local maximum compared to alpha = `0.25`."
   ]
  },
  {
   "cell_type": "markdown",
   "metadata": {},
   "source": [
    "d. From starting values of (θ(0), θ(1)) = (−2, −1), apply the secant method to estimate θ. What happens when (θ(0), θ(1)) = (−3, 3), and for other starting choices?"
   ]
  },
  {
   "cell_type": "code",
   "execution_count": 32,
   "metadata": {},
   "outputs": [],
   "source": [
    "def D1loglikFuncup(tt): \n",
    "    Ttot = 0 \n",
    "    for j in range(len(x)):\n",
    "        Ttot += 2*(-x[j]+tt)/(1+((x[j]-tt)**2))     \n",
    "    return Ttot "
   ]
  },
  {
   "cell_type": "code",
   "execution_count": 33,
   "metadata": {},
   "outputs": [],
   "source": [
    "def secant(a,b,N):\n",
    "    if D1loglikFuncup(a)*D1loglikFuncup(b) >= 0:\n",
    "        print(\"Secant method fails.\")\n",
    "        return None\n",
    "    a_n = a\n",
    "    b_n = b\n",
    "    for n in range(1,N+1):\n",
    "        m_n = a_n - D1loglikFuncup(a_n)*(b_n - a_n)/(D1loglikFuncup(b_n) - D1loglikFuncup(a_n))\n",
    "        f_m_n = D1loglikFuncup(m_n)\n",
    "        if D1loglikFuncup(a_n)*f_m_n < 0:\n",
    "            a_n = a_n\n",
    "            b_n = m_n\n",
    "        elif D1loglikFuncup(b_n)*f_m_n < 0:\n",
    "            a_n = m_n\n",
    "            b_n = b_n\n",
    "        elif f_m_n == 0:\n",
    "            print(\"Found exact solution.\")\n",
    "            return m_n\n",
    "        else:\n",
    "            print(\"Secant method fails.\")\n",
    "            return None\n",
    "    return a_n - D1loglikFuncup(a_n)*(b_n - a_n)/(D1loglikFuncup(b_n) - D1loglikFuncup(a_n))"
   ]
  },
  {
   "cell_type": "code",
   "execution_count": 34,
   "metadata": {},
   "outputs": [
    {
     "name": "stdout",
     "output_type": "stream",
     "text": [
      "Secant method fails.\n"
     ]
    }
   ],
   "source": [
    "secant(-2,-1,10000)"
   ]
  },
  {
   "cell_type": "code",
   "execution_count": 35,
   "metadata": {
    "scrolled": true
   },
   "outputs": [
    {
     "data": {
      "text/plain": [
       "2.8174721655731316"
      ]
     },
     "execution_count": 35,
     "metadata": {},
     "output_type": "execute_result"
    }
   ],
   "source": [
    "secant(-3,3,10000)"
   ]
  },
  {
   "cell_type": "code",
   "execution_count": 36,
   "metadata": {
    "scrolled": true
   },
   "outputs": [
    {
     "data": {
      "text/plain": [
       "2.8174721655731316"
      ]
     },
     "execution_count": 36,
     "metadata": {},
     "output_type": "execute_result"
    }
   ],
   "source": [
    "secant(-1,10,10000)"
   ]
  },
  {
   "cell_type": "code",
   "execution_count": 37,
   "metadata": {},
   "outputs": [
    {
     "name": "stdout",
     "output_type": "stream",
     "text": [
      "Secant method fails.\n"
     ]
    }
   ],
   "source": [
    "secant(0,5,10000)"
   ]
  },
  {
   "cell_type": "code",
   "execution_count": 38,
   "metadata": {
    "scrolled": true
   },
   "outputs": [
    {
     "name": "stdout",
     "output_type": "stream",
     "text": [
      "--- 0.8654589653015137 seconds ---\n"
     ]
    }
   ],
   "source": [
    "start_time = time.time()\n",
    "secant(-1,10,10000)\n",
    "secant_time = time.time() - start_time\n",
    "print(\"--- %s seconds ---\" % secant_time) "
   ]
  },
  {
   "cell_type": "markdown",
   "metadata": {},
   "source": [
    "The Secant method has the order of convergance equall to 1.62, so it is a slower algorithem compared to the previous methods except for Newton. Simillar to the previous methods the choice of starting point has a significant imapct on the answer for this problem therefore, as it can be seen from above the choices of ` (θ(0), θ(1)) = (−2, −1)`, `(θ(0), θ(1)) = (−3, 3)`, `(θ(0), θ(1)) = (-1, 10)` and `(θ(0), θ(1)) = (0, 5)` all result in different anwswers, where some dont converge at all."
   ]
  },
  {
   "cell_type": "markdown",
   "metadata": {},
   "source": [
    "e. Use this example to compare the speed and stability of the Newton–Raphson\n",
    "method, bisection, fixed-point iteration, and the secant method. Do your conclusions change when you apply the methods to a random sample of size 20 from a\n",
    "N(θ, 1) distribution?"
   ]
  },
  {
   "cell_type": "markdown",
   "metadata": {},
   "source": [
    "Printing a table of time spent on each algorithem in `secconds`"
   ]
  },
  {
   "cell_type": "code",
   "execution_count": 39,
   "metadata": {
    "scrolled": true
   },
   "outputs": [
    {
     "name": "stdout",
     "output_type": "stream",
     "text": [
      "|   Newton_time |   Bisection_time |   FixedPoin_time |   secant_time |\n",
      "|---------------+------------------+------------------+---------------|\n",
      "|      0.454715 |       0.00199819 |       0.00100064 |      0.865459 |\n"
     ]
    }
   ],
   "source": [
    " print(tb([[Newton_time, Bisection_time, FixedPoin_time, secant_time]], headers=[\"Newton_time\", \"Bisection_time\", \"FixedPoin_time\", \"secant_time\"],tablefmt='orgtbl'))"
   ]
  },
  {
   "cell_type": "markdown",
   "metadata": {},
   "source": [
    "Based on the this table the Secant method requires the highest amount of time to converge to a solution and after that Newton method has a highly computaionally demanding. The other two methods including Bisection and Fixedpoint are almost identincal in computation time and are less demanding."
   ]
  },
  {
   "cell_type": "markdown",
   "metadata": {},
   "source": [
    "Create a random sample of 20 values for x and repeat the process:"
   ]
  },
  {
   "cell_type": "code",
   "execution_count": 40,
   "metadata": {},
   "outputs": [],
   "source": [
    "x = np.random.normal(0, 1, 20)"
   ]
  },
  {
   "cell_type": "code",
   "execution_count": 41,
   "metadata": {},
   "outputs": [
    {
     "name": "stdout",
     "output_type": "stream",
     "text": [
      "Solution found based on starting value of -0.060039536957600836 : -0.07682298954024881\n",
      "Itteration: 1740\n",
      "--- 0.2738306522369385 seconds ---\n"
     ]
    }
   ],
   "source": [
    "Meanx = np.mean(x)\n",
    "start_time = time.time()\n",
    "NR(Meanx)\n",
    "Newton_time = time.time() - start_time\n",
    "print(\"--- %s seconds ---\" % Newton_time)"
   ]
  },
  {
   "cell_type": "code",
   "execution_count": 42,
   "metadata": {},
   "outputs": [
    {
     "name": "stdout",
     "output_type": "stream",
     "text": [
      "--- 0.003997325897216797 seconds ---\n"
     ]
    }
   ],
   "source": [
    "a = -1\n",
    "b = 1\n",
    "ans = a+(b-a)/2\n",
    "itr = 30\n",
    "start_time = time.time()\n",
    "for i in range(itr):\n",
    "    if (D1loglikFunc(a)*D1loglikFunc(ans) < 0):\n",
    "        b = ans\n",
    "    else:\n",
    "        a = ans\n",
    "    ans = a+(b-a)/2\n",
    "Bisection_time = time.time() - start_time\n",
    "print(\"--- %s seconds ---\" % Bisection_time)  "
   ]
  },
  {
   "cell_type": "code",
   "execution_count": 43,
   "metadata": {},
   "outputs": [
    {
     "name": "stdout",
     "output_type": "stream",
     "text": [
      "Solution found based on alpha value of 0.25 and iteration +1: -0.0773175303883947\n",
      "--- 0.0010001659393310547 seconds ---\n"
     ]
    }
   ],
   "source": [
    "start_time = time.time()\n",
    "Fixed(alphas[2], ans, itr)\n",
    "FixedPoin_time = time.time() - start_time\n",
    "print(\"--- %s seconds ---\" % FixedPoin_time)"
   ]
  },
  {
   "cell_type": "code",
   "execution_count": 44,
   "metadata": {},
   "outputs": [
    {
     "name": "stdout",
     "output_type": "stream",
     "text": [
      "Secant method fails.\n",
      "--- 0.0019958019256591797 seconds ---\n"
     ]
    }
   ],
   "source": [
    "start_time = time.time()\n",
    "secant(0,5,10000)\n",
    "secant_time = time.time() - start_time\n",
    "print(\"--- %s seconds ---\" % secant_time) "
   ]
  },
  {
   "cell_type": "code",
   "execution_count": 45,
   "metadata": {},
   "outputs": [
    {
     "name": "stdout",
     "output_type": "stream",
     "text": [
      "|   Newton_time |   Bisection_time |   FixedPoin_time |   secant_time |\n",
      "|---------------+------------------+------------------+---------------|\n",
      "|      0.273831 |       0.00399733 |       0.00100017 |     0.0019958 |\n"
     ]
    }
   ],
   "source": [
    " print(tb([[Newton_time, Bisection_time, FixedPoin_time, secant_time]], headers=[\"Newton_time\", \"Bisection_time\", \"FixedPoin_time\", \"secant_time\"],tablefmt='orgtbl'))"
   ]
  },
  {
   "cell_type": "markdown",
   "metadata": {},
   "source": [
    "The same process was repeated for different algorithems using the new random arrey of x and the results suggest that changing the values of x does not conisderably changes the time required for convergance. Also most of the descrepencies between this table and the previou table is most likely related to CPU, cache and its tempreture."
   ]
  },
  {
   "cell_type": "markdown",
   "metadata": {},
   "source": [
    "**(3)** Problem 2.4 on page 56 of the Computation Statistics book. Required output: A single Plot\n",
    "including (a) the Gamma(2,1) probability density, (2) the lower and the upper end of the\n",
    "interval clearly marked on the x-axis, (3) the region under the density curve and above the\n",
    "between the 95% highest posterior density interval."
   ]
  },
  {
   "cell_type": "markdown",
   "metadata": {},
   "source": [
    "A parameter θ has a Gamma(2, 1) posterior distribution. Find the 95% highest posterior\n",
    "density interval for θ, that is, the interval containing 95% of the posterior probability for\n",
    "which the posterior density for every point contained in the interval is never lower than\n",
    "the density for every point outside the interval. Since the gamma density is unimodal,\n",
    "the interval is also the narrowest possible interval containing 95% of the posterior\n",
    "probability."
   ]
  },
  {
   "cell_type": "markdown",
   "metadata": {},
   "source": [
    "A minimization method is used to find the width of lowertail probability interval."
   ]
  },
  {
   "cell_type": "code",
   "execution_count": 46,
   "metadata": {},
   "outputs": [],
   "source": [
    "def HDIofICDF(dist_name, credMass, alpha):\n",
    "    def intervalWidth(lowTailPr):\n",
    "        return distri.ppf(credMass + lowTailPr) - distri.ppf(lowTailPr)\n",
    "    distri = dist_name(alpha)\n",
    "    incredMass =  1.0 - credMass\n",
    "    HDIlowTailPr = fmin(intervalWidth, incredMass, ftol=1e-8, disp=False)[0]\n",
    "    return distri.ppf([HDIlowTailPr, credMass + HDIlowTailPr])"
   ]
  },
  {
   "cell_type": "markdown",
   "metadata": {},
   "source": [
    "A posterior distribution for the parameter  \n",
    "θ\n",
    "  is Gamma \n",
    "(\n",
    "n\n",
    "x\n",
    "+\n",
    "α\n",
    ",\n",
    "n\n",
    "+\n",
    "β\n",
    ")\n",
    " . Now the lower and the upper end of the interval with 95% confidence is calculate as and is shown in figure below"
   ]
  },
  {
   "cell_type": "code",
   "execution_count": 47,
   "metadata": {},
   "outputs": [
    {
     "name": "stdout",
     "output_type": "stream",
     "text": [
      "Highest value for posterior density interval is:  [0.0423737  4.76517862]\n"
     ]
    }
   ],
   "source": [
    "alpha = 2\n",
    "beta = 1\n",
    "HPDI=HDIofICDF(gamma, 0.95, alpha)\n",
    "print ('Highest value for posterior density interval is: ',HPDI)"
   ]
  },
  {
   "cell_type": "code",
   "execution_count": 48,
   "metadata": {
    "scrolled": true
   },
   "outputs": [
    {
     "data": {
      "image/png": "[encoded data removed]",
      "text/plain": [
       "<Figure size 1440x720 with 1 Axes>"
      ]
     },
     "metadata": {
      "needs_background": "light"
     },
     "output_type": "display_data"
    }
   ],
   "source": [
    "plt.figure(figsize=(20,10))\n",
    "x = np.linspace(gamma.ppf(0.0001, alpha),gamma.ppf(0.9999, alpha), 1000000)\n",
    "plt.plot(x, gamma.pdf(x, alpha),'b', lw=5, alpha=0.6, label='pdf')\n",
    "plt.axvline(x=HPDI[0],color='k', linestyle='--')\n",
    "plt.text(0, 0.35, r'$q_{lower}$', verticalalignment='center', fontsize=20,color='k')\n",
    "plt.axvline(x=HPDI[1],color='k', linestyle='--')\n",
    "plt.text(6, 0.35, r'$q_{upper}$', verticalalignment='center', fontsize=20,color='k')\n",
    "plt.show()"
   ]
  },
  {
   "cell_type": "markdown",
   "metadata": {},
   "source": [
    "So the region under the density curve between the 95% highest posterior density interval can be computed as:"
   ]
  },
  {
   "cell_type": "code",
   "execution_count": 49,
   "metadata": {},
   "outputs": [
    {
     "data": {
      "image/png": "[encoded data removed]",
      "text/plain": [
       "<Figure size 1440x720 with 1 Axes>"
      ]
     },
     "metadata": {
      "needs_background": "light"
     },
     "output_type": "display_data"
    }
   ],
   "source": [
    "fig, ax = plt.subplots(figsize=(20,10))\n",
    "ix = np.linspace(HPDI[0], HPDI[1])\n",
    "iy = gamma.pdf(ix, alpha)\n",
    "verts = [(HPDI[0],HPDI[0]), *zip(ix, iy), (HPDI[1], HPDI[0])]\n",
    "poly = Polygon(verts, facecolor='0.6', edgecolor='0.6')\n",
    "ax.add_patch(poly)\n",
    "x = np.linspace(gamma.ppf(0.0001, alpha),gamma.ppf(0.9999, alpha), 1000000)\n",
    "ax.plot(x, gamma.pdf(x, alpha),'b', lw=5, alpha=0.6, label='pdf')\n",
    "ax.axvline(x=HPDI[0],color='k', linestyle='--')\n",
    "ax.text(-1.5, 0.3, r'$q_{lower}$', verticalalignment='center',fontsize=20,color='k')\n",
    "ax.axvline(x=HPDI[1],color='k', linestyle='--')\n",
    "ax.text(5, 0.3, r'$q_{upper}$', verticalalignment='center', fontsize=20,color='k')\n",
    "ax.text(3.3, 0.4, r'$Gamma\\ Distribution$', horizontalalignment='center', fontsize=20,color='b')\n",
    "ax.hlines(y=HPDI[0],xmin=-0.5,xmax=25,color='r', linestyle='--')\n",
    "plt.show()"
   ]
  },
  {
   "cell_type": "markdown",
   "metadata": {},
   "source": [
    "## Non-Coding Assignments:"
   ]
  },
  {
   "cell_type": "markdown",
   "metadata": {},
   "source": [
    "**(4)** Observations Y1; : : : ; Yn are described by the relationship Yi = θx2 i + \u000fi, where x1; : : : ; xn are\n",
    "fixed constants and \u000f1; : : : ; \u000fn are iid N(0; σ2)."
   ]
  },
  {
   "cell_type": "markdown",
   "metadata": {},
   "source": [
    "(a) Find the least squares estimator of θ."
   ]
  },
  {
   "cell_type": "markdown",
   "metadata": {},
   "source": [
    "\\begin{equation*}\n",
    "F(\\theta) = \\sum_{i=1}^{n} \\left(y_i-\\theta {x_i}^2 \\right)^2 \n",
    "\\end{equation*}"
   ]
  },
  {
   "cell_type": "markdown",
   "metadata": {},
   "source": [
    "\\begin{equation*}\n",
    "\\frac{\\sigma F}{\\sigma \\theta}  = -2\\sum_{i=1}^{n} {x_i}^2\\left(y_i-\\theta {x_i}^2 \\right) = -2\\sum_{i=1}^{n}{x_i}^2 y_i + 2\\theta \\sum_{i=1}^{n}{x_i}^4 = 0\n",
    "\\end{equation*}"
   ]
  },
  {
   "cell_type": "markdown",
   "metadata": {},
   "source": [
    "\\begin{equation*}\n",
    "\\theta \\sum_{i=1}^{n} {x_i}^4 = \\sum_{i=1}^{n} {x_i}^2 y_i \n",
    "\\end{equation*}"
   ]
  },
  {
   "cell_type": "markdown",
   "metadata": {},
   "source": [
    "\\begin{equation*}\n",
    "\\theta = \\frac{\\sum_{i=1}^{n} {x_i}^2 y_i }{\\sum_{i=1}^{n} {x_i}^4}  \n",
    "\\end{equation*}"
   ]
  },
  {
   "cell_type": "markdown",
   "metadata": {},
   "source": [
    "(b) Find the MLE of θ"
   ]
  },
  {
   "cell_type": "markdown",
   "metadata": {},
   "source": [
    "\\begin{equation*}\n",
    "L(\\theta) = \\prod_{i=1}^{n} \\frac{1}{\\sqrt{2\\pi{\\alpha}^2}} \\exp{-\\frac{1}{2} \\frac{\\left(x_i-\\theta {x_i}^2\\right)^2}{\\sigma^2}} = \\left(\\frac{1}{\\sqrt{2\\pi{\\alpha}^2}} \\right)^n \\exp{\\sum_{i=1}^{n} -\\frac{1}{2} \\frac{\\left(x_i-\\theta {x_i}^2\\right)^2}{\\sigma^2}  }\n",
    "\\end{equation*}"
   ]
  },
  {
   "cell_type": "markdown",
   "metadata": {},
   "source": [
    "\\begin{equation*}\n",
    "l(\\theta) = -n\\log{\\sqrt{2\\pi{\\alpha}^2}} + \\sum_{i=1}^{n}-\\frac{1}{2} \\frac{\\left(x_i-\\theta {x_i}^2\\right)^2}{\\sigma^2}     \n",
    "\\end{equation*}"
   ]
  },
  {
   "cell_type": "markdown",
   "metadata": {},
   "source": [
    "\\begin{equation*}\n",
    "l'(\\theta) = 0 + \\frac{1}{\\sigma^2} \\sum_{i=1}^{n} {x_i}^2 \\left(x_i-\\theta {x_i}^2\\right)^2  = 0\n",
    "\\end{equation*}"
   ]
  },
  {
   "cell_type": "markdown",
   "metadata": {},
   "source": [
    "\\begin{equation*}\n",
    "\\theta \\sum_{i=1}^{n} {x_i}^4 = \\sum_{i=1}^{n} {x_i}^3\n",
    "\\end{equation*}"
   ]
  },
  {
   "cell_type": "markdown",
   "metadata": {},
   "source": [
    "\\begin{equation*}\n",
    "\\theta = \\frac{\\sum_{i=1}^{n} {x_i}^3}{\\sum_{i=1}^{n} {x_i}^4}\n",
    "\\end{equation*}"
   ]
  },
  {
   "cell_type": "markdown",
   "metadata": {},
   "source": []
  }
 ],
 "metadata": {
  "kernelspec": {
   "display_name": "Python 3",
   "language": "python",
   "name": "python3"
  },
  "language_info": {
   "codemirror_mode": {
    "name": "ipython",
    "version": 3
   },
   "file_extension": ".py",
   "mimetype": "text/x-python",
   "name": "python",
   "nbconvert_exporter": "python",
   "pygments_lexer": "ipython3",
   "version": "3.7.5"
  }
 },
 "nbformat": 4,
 "nbformat_minor": 2
}
