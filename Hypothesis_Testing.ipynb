{
 "cells": [
  {
   "cell_type": "markdown",
   "metadata": {},
   "source": [
    "H0: $\\mu = \\mu_0$\n",
    "\n",
    "H1: $\\mu \\ne \\mu_0$"
   ]
  },
  {
   "cell_type": "code",
   "execution_count": 1,
   "metadata": {},
   "outputs": [],
   "source": [
    "import numpy as np\n",
    "from scipy import stats"
   ]
  },
  {
   "cell_type": "code",
   "execution_count": 2,
   "metadata": {},
   "outputs": [],
   "source": [
    "# True Population Distribution:\n",
    "mu0, mu, sigma = 1.0, 0.8, 0.5\n",
    "\n",
    "X = stats.norm(mu, sigma)\n",
    "\n",
    "n = 100\n",
    "\n",
    "X_samples = X.rvs(n)"
   ]
  },
  {
   "cell_type": "code",
   "execution_count": 3,
   "metadata": {},
   "outputs": [
    {
     "data": {
      "text/plain": [
       "-3.9414643191967436"
      ]
     },
     "execution_count": 3,
     "metadata": {},
     "output_type": "execute_result"
    }
   ],
   "source": [
    "z = (X_samples.mean() - mu0 ) /( sigma / np.sqrt(n))\n",
    "z"
   ]
  },
  {
   "cell_type": "code",
   "execution_count": 4,
   "metadata": {},
   "outputs": [
    {
     "data": {
      "text/plain": [
       "-3.948686149455694"
      ]
     },
     "execution_count": 4,
     "metadata": {},
     "output_type": "execute_result"
    }
   ],
   "source": [
    "t = (X_samples.mean() - mu0 ) /( X_samples.std(ddof=1) / np.sqrt(n))\n",
    "t"
   ]
  },
  {
   "cell_type": "code",
   "execution_count": 5,
   "metadata": {},
   "outputs": [
    {
     "data": {
      "text/plain": [
       "1.959963984540054"
      ]
     },
     "execution_count": 5,
     "metadata": {},
     "output_type": "execute_result"
    }
   ],
   "source": [
    "alpha = 0.05  # significance level\n",
    "z_alpha_over_2 = stats.norm.ppf(1 - alpha/2)\n",
    "z_alpha_over_2"
   ]
  },
  {
   "cell_type": "code",
   "execution_count": 6,
   "metadata": {},
   "outputs": [
    {
     "data": {
      "text/plain": [
       "8.098568350052156e-05"
      ]
     },
     "execution_count": 6,
     "metadata": {},
     "output_type": "execute_result"
    }
   ],
   "source": [
    "# P-value by knowing the sampling distribution of the test statistic\n",
    "2 * stats.norm().cdf(-abs(z)) "
   ]
  },
  {
   "cell_type": "code",
   "execution_count": 7,
   "metadata": {},
   "outputs": [],
   "source": [
    "m = 1000 # number of replications "
   ]
  },
  {
   "cell_type": "code",
   "execution_count": 8,
   "metadata": {},
   "outputs": [
    {
     "name": "stdout",
     "output_type": "stream",
     "text": [
      "The power at $mu_0$ estimated by the simple Monte Carlo simulation \n"
     ]
    },
    {
     "data": {
      "text/plain": [
       "0.984"
      ]
     },
     "execution_count": 8,
     "metadata": {},
     "output_type": "execute_result"
    }
   ],
   "source": [
    "# Power = probability of reject H_0 when H_0 is false \n",
    "# Computing the power by Simple Monte Carlo\n",
    "\n",
    "X_samples = X.rvs(size=(m, n))\n",
    "z = (X_samples.mean(axis=1) - mu0 ) /( sigma / np.sqrt(n))\n",
    "\n",
    "# Decision: reject H_0 if abs(z) > z_alpha_over_2\n",
    "\n",
    "print('The power at $mu_0$ estimated by the simple Monte Carlo simulation: ')\n",
    "\n",
    "np.mean(abs(z) > z_alpha_over_2)"
   ]
  },
  {
   "cell_type": "code",
   "execution_count": null,
   "metadata": {},
   "outputs": [],
   "source": []
  }
 ],
 "metadata": {
  "kernelspec": {
   "display_name": "Python 3",
   "language": "python",
   "name": "python3"
  },
  "language_info": {
   "codemirror_mode": {
    "name": "ipython",
    "version": 3
   },
   "file_extension": ".py",
   "mimetype": "text/x-python",
   "name": "python",
   "nbconvert_exporter": "python",
   "pygments_lexer": "ipython3",
   "version": "3.7.5"
  }
 },
 "nbformat": 4,
 "nbformat_minor": 4
}
