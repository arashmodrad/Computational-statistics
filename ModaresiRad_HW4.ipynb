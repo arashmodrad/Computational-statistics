{
 "cells": [
  {
   "cell_type": "markdown",
   "metadata": {},
   "source": [
    "<h1><center> MATH 472/572 Computational Statistics - Spring 2020 </h1></center>\n",
    "<h2><center> Homework 4 - February 13, Thursday </h2></center>\n",
    "<h3><center> Instructor: Leming Qu </h3></center>"
   ]
  },
  {
   "cell_type": "markdown",
   "metadata": {},
   "source": [
    "<h1><center> Student: Arash Modaresi Rad </h1></center>"
   ]
  },
  {
   "cell_type": "markdown",
   "metadata": {},
   "source": [
    "Problem 2.5 on page 56 of the Computation Statistics book.\n",
    "Required output to be embedded within the submitted Jupyter Notebook:\n",
    "All the output corresponding to a specific question must begin in a Markdown Cell with a\n",
    "heading, for example,"
   ]
  },
  {
   "cell_type": "markdown",
   "metadata": {},
   "source": [
    "2.5. There were 46 crude oil spills of at least 1000 barrels from tankers in U.S. waters during\n",
    "1974–1999. The website for this book contains the following data: the number of spills\n",
    "in the ith year, Ni; the estimated amount of oil shipped through US waters as part of\n",
    "US import/export operations in the ith year, adjusted for spillage in international or\n",
    "foreign waters, bi1; and the amount of oil shipped through U.S. waters during domestic\n",
    "shipments in the ith year, bi2. The data are adapted from [11]. Oil shipment amounts\n",
    "are measured in billions of barrels (Bbbl).\n",
    "The volume of oil shipped is a measure of exposure to spill risk. Suppose\n",
    "we use the Poisson process assumption given by Ni|bi1, bi2 ∼ Poisson(λi) where\n",
    "λi = α1bi1 + α2bi2. The parameters of this model areα1 and α2, which represent the rate\n",
    "of spill occurrence per Bbbl oil shipped during import/export and domestic shipments,\n",
    "respectively.\n"
   ]
  },
  {
   "cell_type": "markdown",
   "metadata": {},
   "source": [
    "**a.** Derive the Newton–Raphson update for finding the MLEs of α1 and α2.\n",
    "(a) Present your derivation using Markdown in Jupyter notebook.\n",
    "### Answer to part (a):"
   ]
  },
  {
   "cell_type": "markdown",
   "metadata": {},
   "source": [
    "Given a bivariate Poisson distribution:"
   ]
  },
  {
   "cell_type": "markdown",
   "metadata": {},
   "source": [
    "\\begin{equation*}\n",
    "f(x) = \\frac{{{\\lambda}_i}^{x_i}}{x_i!}\\exp(-\\lambda_i) \n",
    "\\end{equation*}"
   ]
  },
  {
   "cell_type": "markdown",
   "metadata": {},
   "source": [
    "The likelihood is defiend as,"
   ]
  },
  {
   "cell_type": "markdown",
   "metadata": {},
   "source": [
    "\\begin{equation*}\n",
    "L(\\lambda) = \\prod_{i=1}^{n} \\frac{{{\\lambda}_i}^{x_i}}{x_i!}\\exp(-\\lambda_i)  \n",
    "\\end{equation*}"
   ]
  },
  {
   "cell_type": "markdown",
   "metadata": {},
   "source": [
    "and the loglikelihood computed as,"
   ]
  },
  {
   "cell_type": "markdown",
   "metadata": {},
   "source": [
    "\\begin{equation*}\n",
    "l(\\lambda) = \\log(L(\\lambda)) = \\prod_{i=1}^{n} \\left(\\log({{\\lambda}_i}^{x_i}) - \\log(x_i!) - \\lambda_i \\right) = \\left(x_1\\log(\\lambda_1) + x_2\\log(\\lambda_2) + ... + x_n\\log(\\lambda_n) \\right) - \\sum_{i = 1}^{n} \\log(x_i!) - \\sum_{i = 1}^{n} \\lambda_i \n",
    "\\end{equation*}"
   ]
  },
  {
   "cell_type": "markdown",
   "metadata": {},
   "source": [
    "\\begin{equation*}\n",
    "l(\\lambda)=\\sum_{i = 1}^{n} x_i\\log(\\lambda_i) - \\sum_{i = 1}^{n} \\log(x_i!) - \\sum_{i = 1}^{n} \\lambda_i\n",
    "\\end{equation*}"
   ]
  },
  {
   "cell_type": "markdown",
   "metadata": {},
   "source": [
    "where the parameter of Poisson distribution ($\\lambda$) is defined as,"
   ]
  },
  {
   "cell_type": "markdown",
   "metadata": {},
   "source": [
    "\\begin{equation*}\n",
    "\\lambda_i = \\alpha_1\\beta_{i1} + \\alpha_2\\beta_{i2} \n",
    "\\end{equation*}\n"
   ]
  },
  {
   "cell_type": "markdown",
   "metadata": {},
   "source": [
    "placing this into the loglikelihood equation we get:"
   ]
  },
  {
   "cell_type": "markdown",
   "metadata": {},
   "source": [
    "\\begin{equation*}\n",
    "l(\\lambda)=\\sum_{i = 1}^{n} x_i\\log(\\alpha_1\\beta_{i1} + \\alpha_2\\beta_{i2} ) - \\sum_{i = 1}^{n} \\log(x_i!) - \\sum_{i = 1}^{n} \\alpha_1\\beta_{i1} + \\alpha_2\\beta_{i2} \n",
    "\\end{equation*}"
   ]
  },
  {
   "cell_type": "markdown",
   "metadata": {},
   "source": [
    "with first derivitive being:"
   ]
  },
  {
   "cell_type": "markdown",
   "metadata": {},
   "source": [
    "\\begin{equation*}\n",
    "l'_{\\alpha_1}(\\lambda_i)=\\sum_{i = 1}^{n} \\frac{\\beta_{i1}}{\\alpha_1\\beta_{i1} + \\alpha_2\\beta_{i2}} x_i - \\sum_{i = 1}^{n} \\beta_{i1}\n",
    "\\end{equation*} "
   ]
  },
  {
   "cell_type": "markdown",
   "metadata": {},
   "source": [
    "and"
   ]
  },
  {
   "cell_type": "markdown",
   "metadata": {},
   "source": [
    "\\begin{equation*}\n",
    "l'_{\\alpha_2}(\\lambda_i)=\\sum_{i = 1}^{n} \\frac{\\beta_{i2}}{\\alpha_1\\beta_{i1} + \\alpha_2\\beta_{i2}} x_i - \\sum_{i = 1}^{n} \\beta_{i2}\n",
    "\\end{equation*} "
   ]
  },
  {
   "cell_type": "markdown",
   "metadata": {},
   "source": [
    "resulting the following column vector"
   ]
  },
  {
   "cell_type": "markdown",
   "metadata": {},
   "source": [
    "\\begin{equation*}\n",
    "l'(\\lambda_i)=\\begin{pmatrix} {\\sum_{i = 1}^{n} \\frac{\\beta_{i1}}{\\alpha_1\\beta_{i1} + \\alpha_2\\beta_{i2}} x_i - \\sum_{i = 1}^{n} \\beta_{i1}} \\\\ {\\sum_{i = 1}^{n} \\frac{\\beta_{i2}}{\\alpha_1\\beta_{i1} + \\alpha_2\\beta_{i2}} x_i - \\sum_{i = 1}^{n} \\beta_{i2}} \\end{pmatrix} \n",
    "\\end{equation*} "
   ]
  },
  {
   "cell_type": "markdown",
   "metadata": {},
   "source": [
    "the seccond derivative is:"
   ]
  },
  {
   "cell_type": "markdown",
   "metadata": {},
   "source": [
    "\\begin{equation*}\n",
    "\\frac{\\sigma^2 l}{\\sigma\\alpha_2\\alpha_1} = \\frac{\\sigma^2 l}{\\sigma\\alpha_1\\alpha_2} =\\sum_{i = 1}^{n} \\frac{-\\beta_{i1}\\beta_{i2}}{\\left(\\alpha_1\\beta_{i1} + \\alpha_2\\beta_{i2} \\right)^2} x_i \n",
    "\\end{equation*} "
   ]
  },
  {
   "cell_type": "markdown",
   "metadata": {},
   "source": [
    "\\begin{equation*}\n",
    "\\frac{\\sigma^2 l}{\\sigma{\\alpha_1}^2} = \\sum_{i = 1}^{n} \\frac{-{\\beta_{i1}}^2}{\\left(\\alpha_1\\beta_{i1} + \\alpha_2\\beta_{i2} \\right)^2} x_i \n",
    "\\end{equation*} "
   ]
  },
  {
   "cell_type": "markdown",
   "metadata": {},
   "source": [
    "\\begin{equation*}\n",
    "\\frac{\\sigma^2 l}{\\sigma{\\alpha_2}^2} = \\sum_{i = 1}^{n} \\frac{-{\\beta_{i2}}^2}{\\left(\\alpha_1\\beta_{i1} + \\alpha_2\\beta_{i2} \\right)^2} x_i \n",
    "\\end{equation*} "
   ]
  },
  {
   "cell_type": "markdown",
   "metadata": {},
   "source": [
    "which these form the hessian,"
   ]
  },
  {
   "cell_type": "markdown",
   "metadata": {},
   "source": [
    "\\begin{equation*}\n",
    "Hessian = \n",
    "\\begin{pmatrix} {\\sum_{i = 1}^{n} \\frac{-{\\beta_{i1}}^2}{\\left(\\alpha_1\\beta_{i1} + \\alpha_2\\beta_{i2} \\right)^2} x_i}  & {\\sum_{i = 1}^{n} \\frac{-\\beta_{i1}\\beta_{i2}}{\\left(\\alpha_1\\beta_{i1} + \\alpha_2\\beta_{i2} \\right)^2} x_i } \\\\ {\\sum_{i = 1}^{n} \\frac{-\\beta_{i1}\\beta_{i2}}{\\left(\\alpha_1\\beta_{i1} + \\alpha_2\\beta_{i2} \\right)^2} x_i} & {\\sum_{i = 1}^{n} \\frac{-{\\beta_{i2}}^2}{\\left(\\alpha_1\\beta_{i1} + \\alpha_2\\beta_{i2} \\right)^2} x_i} \\end{pmatrix}\n",
    "\\end{equation*} "
   ]
  },
  {
   "cell_type": "markdown",
   "metadata": {},
   "source": [
    "This provides the update:"
   ]
  },
  {
   "cell_type": "markdown",
   "metadata": {},
   "source": [
    "\\begin{equation*}\n",
    "\\lambda^{(t+1)} = \\lambda^t - Hessian^{-1}l'(\\lambda_i)\n",
    "\\end{equation*}"
   ]
  },
  {
   "cell_type": "markdown",
   "metadata": {},
   "source": [
    "**b.** Derive the Fisher scoring update for finding the MLEs of α1 and α2.\n",
    "(b) Present your derivation using Markdown in Jupyter notebook.\n",
    "### Answer to part (b):"
   ]
  },
  {
   "cell_type": "markdown",
   "metadata": {},
   "source": [
    "The fisher information can be approximated by the the nagative of the hessian as shown below:"
   ]
  },
  {
   "cell_type": "markdown",
   "metadata": {},
   "source": [
    "\\begin{equation*}\n",
    "I = -E(Hessian) =  \n",
    "-E\\begin{pmatrix} {\\sum_{i = 1}^{n} \\frac{-{\\beta_{i1}}^2}{\\left(\\alpha_1\\beta_{i1} + \\alpha_2\\beta_{i2} \\right)^2} x_i}  & {\\sum_{i = 1}^{n} \\frac{-\\beta_{i1}\\beta_{i2}}{\\left(\\alpha_1\\beta_{i1} + \\alpha_2\\beta_{i2} \\right)^2} x_i } \\\\ {\\sum_{i = 1}^{n} \\frac{-\\beta_{i1}\\beta_{i2}}{\\left(\\alpha_1\\beta_{i1} + \\alpha_2\\beta_{i2} \\right)^2} x_i} & {\\sum_{i = 1}^{n} \\frac{-{\\beta_{i2}}^2}{\\left(\\alpha_1\\beta_{i1} + \\alpha_2\\beta_{i2} \\right)^2} x_i} \\end{pmatrix}\n",
    "\\end{equation*} "
   ]
  },
  {
   "cell_type": "markdown",
   "metadata": {},
   "source": [
    "where we can assume that the left part of the equation is a constant and the varaible is x then we can write the derivative as shown below. Also form poisson distribution we know that the expexted value of a varible is poisson distribution parameter ($\\lambda$)."
   ]
  },
  {
   "cell_type": "markdown",
   "metadata": {},
   "source": [
    "\\begin{equation*}\n",
    "E \\left(\\sum_{i = 1}^{n} -x_i\\times Constant_i \\right) = - E\\left(x_1\\times Constant_1 +  x_2\\times Constant_2 + ... +  x_n\\times Constant_n \\right) = - \\left(E(x_1\\times Constant_1) +  E(x_2\\times Constant_2) + ... +  E(x_n\\times Constant_n) \\right) = - \\left(\\lambda_1\\times Constant_1 +  \\lambda_2\\times Constant_2 + ... +  \\lambda_n\\times Constant_n \\right) = -\\sum_{i = 1}^{n} \\lambda_i\\times Constant_i  \n",
    "\\end{equation*}"
   ]
  },
  {
   "cell_type": "markdown",
   "metadata": {},
   "source": [
    "where the parameter of Poisson distribution ($\\lambda$) is defined as,"
   ]
  },
  {
   "cell_type": "markdown",
   "metadata": {},
   "source": [
    "\\begin{equation*}\n",
    "\\lambda_i = \\alpha_1\\beta_{i1} + \\alpha_2\\beta_{i2} \n",
    "\\end{equation*}\n"
   ]
  },
  {
   "cell_type": "markdown",
   "metadata": {},
   "source": [
    "using the above equation we can write:"
   ]
  },
  {
   "cell_type": "markdown",
   "metadata": {},
   "source": [
    "\\begin{equation*}\n",
    "I = -E(Hessian) =  \n",
    "-E\\begin{pmatrix} {\\sum_{i = 1}^{n} \\frac{-{\\beta_{i1}}^2}{\\left(\\alpha_1\\beta_{i1} + \\alpha_2\\beta_{i2} \\right)^2} \\times \\left(\\alpha_1\\beta_{i1} + \\alpha_2\\beta_{i2} \\right) }  & {\\sum_{i = 1}^{n} \\frac{-\\beta_{i1}\\beta_{i2}}{\\left(\\alpha_1\\beta_{i1} + \\alpha_2\\beta_{i2} \\right)^2} \\times \\left(\\alpha_1\\beta_{i1} + \\alpha_2\\beta_{i2} \\right) } \\\\ {\\sum_{i = 1}^{n} \\frac{-\\beta_{i1}\\beta_{i2}}{\\left(\\alpha_1\\beta_{i1} + \\alpha_2\\beta_{i2} \\right)^2} \\times \\left(\\alpha_1\\beta_{i1} + \\alpha_2\\beta_{i2} \\right)} & {\\sum_{i = 1}^{n} \\frac{-{\\beta_{i2}}^2}{\\left(\\alpha_1\\beta_{i1} + \\alpha_2\\beta_{i2} \\right)^2} \\times \\left(\\alpha_1\\beta_{i1} + \\alpha_2\\beta_{i2} \\right)} \\end{pmatrix} = -\\begin{pmatrix} {\\sum_{i = 1}^{n} \\frac{-{\\beta_{i1}}^2}{\\left(\\alpha_1\\beta_{i1} + \\alpha_2\\beta_{i2} \\right)}}  & {\\sum_{i = 1}^{n} \\frac{-\\beta_{i1}\\beta_{i2}}{\\left(\\alpha_1\\beta_{i1} + \\alpha_2\\beta_{i2} \\right)}} \\\\ {\\sum_{i = 1}^{n} \\frac{-\\beta_{i1}\\beta_{i2}}{\\left(\\alpha_1\\beta_{i1} + \\alpha_2\\beta_{i2} \\right)}} & {\\sum_{i = 1}^{n} \\frac{-{\\beta_{i2}}^2}{\\left(\\alpha_1\\beta_{i1} + \\alpha_2\\beta_{i2} \\right)}} \\end{pmatrix} \n",
    "\\end{equation*} "
   ]
  },
  {
   "cell_type": "markdown",
   "metadata": {},
   "source": [
    "as a result the updating equation is therefore,"
   ]
  },
  {
   "cell_type": "markdown",
   "metadata": {},
   "source": [
    "\\begin{equation*}\n",
    "\\lambda^{(t+1)} = \\lambda^t + I( \\lambda^t)^{-1}l'(\\lambda_i)\n",
    "\\end{equation*}"
   ]
  },
  {
   "cell_type": "markdown",
   "metadata": {},
   "source": [
    "**c.** Implement the Newton–Raphson and Fisher scoring methods for this problem,\n",
    "provide the MLEs, and compare the implementation ease and performance of the\n",
    "two methods.\n",
    "(c) Present your estimates in the last 5 iterations in a format similar to Table 2.1.\n",
    "\n",
    "### Answer to part (c):"
   ]
  },
  {
   "cell_type": "markdown",
   "metadata": {},
   "source": [
    "To see the data in table format install tabulate first:"
   ]
  },
  {
   "cell_type": "code",
   "execution_count": 1,
   "metadata": {},
   "outputs": [],
   "source": [
    "#pip install tabulate"
   ]
  },
  {
   "cell_type": "code",
   "execution_count": 2,
   "metadata": {},
   "outputs": [
    {
     "name": "stderr",
     "output_type": "stream",
     "text": [
      "WARNING (theano.configdefaults): g++ not available, if using conda: `conda install m2w64-toolchain`\n",
      "C:\\Users\\Uchiha_Arash\\Anaconda3\\lib\\site-packages\\theano\\configdefaults.py:560: UserWarning: DeprecationWarning: there is no c++ compiler.This is deprecated and with Theano 0.11 a c++ compiler will be mandatory\n",
      "  warnings.warn(\"DeprecationWarning: there is no c++ compiler.\"\n",
      "WARNING (theano.configdefaults): g++ not detected ! Theano will be unable to execute optimized C-implementations (for both CPU and GPU) and will default to Python implementations. Performance will be severely degraded. To remove this warning, set Theano flags cxx to an empty string.\n",
      "WARNING (theano.tensor.blas): Using NumPy C-API based implementation for BLAS functions.\n"
     ]
    }
   ],
   "source": [
    "import time\n",
    "import numpy as np\n",
    "import seaborn as sb\n",
    "import sympy as sym\n",
    "from sympy import *\n",
    "from numpy import ma\n",
    "from numpy.linalg import inv\n",
    "import pandas as pd \n",
    "import matplotlib.pyplot as plt  \n",
    "import functools as fts\n",
    "from tabulate import tabulate as tabulate\n",
    "import pymc3\n",
    "from scipy.stats import norm\n",
    "from scipy.optimize import fmin\n",
    "from scipy.stats import *\n",
    "from matplotlib.patches import Polygon\n",
    "from sympy.utilities.lambdify import lambdify, implemented_function\n",
    "from sympy import Function\n",
    "import sympy as sym\n",
    "np.random.seed(1000)"
   ]
  },
  {
   "cell_type": "markdown",
   "metadata": {},
   "source": [
    "**Load the data**"
   ]
  },
  {
   "cell_type": "code",
   "execution_count": 3,
   "metadata": {},
   "outputs": [
    {
     "data": {
      "text/html": [
       "<div>\n",
       "<style scoped>\n",
       "    .dataframe tbody tr th:only-of-type {\n",
       "        vertical-align: middle;\n",
       "    }\n",
       "\n",
       "    .dataframe tbody tr th {\n",
       "        vertical-align: top;\n",
       "    }\n",
       "\n",
       "    .dataframe thead th {\n",
       "        text-align: right;\n",
       "    }\n",
       "</style>\n",
       "<table border=\"1\" class=\"dataframe\">\n",
       "  <thead>\n",
       "    <tr style=\"text-align: right;\">\n",
       "      <th></th>\n",
       "      <th>year</th>\n",
       "      <th>spills</th>\n",
       "      <th>importexport</th>\n",
       "      <th>domestic</th>\n",
       "    </tr>\n",
       "  </thead>\n",
       "  <tbody>\n",
       "    <tr>\n",
       "      <th>0</th>\n",
       "      <td>1974</td>\n",
       "      <td>2</td>\n",
       "      <td>0.720</td>\n",
       "      <td>0.22</td>\n",
       "    </tr>\n",
       "    <tr>\n",
       "      <th>1</th>\n",
       "      <td>1975</td>\n",
       "      <td>5</td>\n",
       "      <td>0.850</td>\n",
       "      <td>0.17</td>\n",
       "    </tr>\n",
       "    <tr>\n",
       "      <th>2</th>\n",
       "      <td>1976</td>\n",
       "      <td>3</td>\n",
       "      <td>1.120</td>\n",
       "      <td>0.15</td>\n",
       "    </tr>\n",
       "    <tr>\n",
       "      <th>3</th>\n",
       "      <td>1977</td>\n",
       "      <td>3</td>\n",
       "      <td>1.345</td>\n",
       "      <td>0.20</td>\n",
       "    </tr>\n",
       "    <tr>\n",
       "      <th>4</th>\n",
       "      <td>1978</td>\n",
       "      <td>1</td>\n",
       "      <td>1.290</td>\n",
       "      <td>0.59</td>\n",
       "    </tr>\n",
       "  </tbody>\n",
       "</table>\n",
       "</div>"
      ],
      "text/plain": [
       "   year  spills  importexport  domestic\n",
       "0  1974       2         0.720      0.22\n",
       "1  1975       5         0.850      0.17\n",
       "2  1976       3         1.120      0.15\n",
       "3  1977       3         1.345      0.20\n",
       "4  1978       1         1.290      0.59"
      ]
     },
     "execution_count": 3,
     "metadata": {},
     "output_type": "execute_result"
    }
   ],
   "source": [
    "data = pd.read_table(\"oilspills.dat\", sep=\"\\s+\")\n",
    "data.head()"
   ]
  },
  {
   "cell_type": "code",
   "execution_count": 4,
   "metadata": {},
   "outputs": [],
   "source": [
    "x = data['spills']\n",
    "beta1 = data['importexport']\n",
    "beta2 = data['domestic']"
   ]
  },
  {
   "cell_type": "markdown",
   "metadata": {},
   "source": [
    "**Implement the Newton–Raphson**"
   ]
  },
  {
   "cell_type": "code",
   "execution_count": 5,
   "metadata": {},
   "outputs": [],
   "source": [
    "# calculte the first and seccond derivative\n",
    "xt1 = sym.Symbol('a1pha1')\n",
    "xt2 = sym.Symbol('a1pha2')\n",
    "Df1 = lambdify([xt1,xt2], sum(x*beta1/(xt1*beta1+xt2*beta2))-sum(beta1), 'numpy')\n",
    "Df2 = lambdify([xt1,xt2], sum(x*beta2/(xt1*beta1+xt2*beta2))-sum(beta2), 'numpy')\n",
    "DDf12 = lambdify([xt1,xt2], sum(-x*beta1*beta2/(xt1*beta1+xt2*beta2)**2), 'numpy')\n",
    "DDf11 = lambdify([xt1,xt2], sum(-x*beta1**2/(xt1*beta1+xt2*beta2)**2), 'numpy')\n",
    "DDf22 = lambdify([xt1,xt2], sum(-x*beta2**2/(xt1*beta1+xt2*beta2)**2), 'numpy')\n",
    "\n",
    "\n",
    "def loglikFunc(): \n",
    "    Ttot = 1 \n",
    "    xt1 = sym.Symbol('a1pha1')\n",
    "    xt2 = sym.Symbol('a1pha2')\n",
    "    for j in range(len(x)):\n",
    "        Ttot *= (xt1*beta1[j]+xt2*beta2[j])**x[j]*exp(-(xt1*beta1[j]+xt2*beta2[j]))/np.math.factorial(x[j])   \n",
    "    return log(Ttot) \n",
    "LLfunc = lambdify([xt1,xt2], loglikFunc(), 'numpy')\n",
    "\n",
    "\n",
    "def NR(Start1, Start2, maxitt):\n",
    "\n",
    "    itt = 0\n",
    "    i = 0\n",
    "    eps = 0.001\n",
    "    xt1 = Start1\n",
    "    xt2 = Start2\n",
    "    xt_list = []\n",
    "    et_list = []\n",
    "    parameters = pd.DataFrame(np.zeros((maxitt + 1, 2)))\n",
    "    parameters[0][0] = xt1\n",
    "    parameters[0][1] = xt2\n",
    "    for i in range(10000):\n",
    "        \n",
    "        xt01 = xt1\n",
    "        xt02 = xt2\n",
    "        \n",
    "        [[xt1],[xt2]] = [[xt1],[xt2]] - np.linalg.inv([[DDf11(xt1,xt2),DDf12(xt1,xt2)],[DDf12(xt1,xt2),DDf22(xt1,xt2)]]).dot([[Df1(xt1,xt2)],[Df2(xt1,xt2)]])\n",
    "        \n",
    "        Hessian = [[DDf11(xt1,xt2),DDf12(xt1,xt2)],[DDf12(xt1,xt2),DDf22(xt1,xt2)]]\n",
    "\n",
    "        parameters.iloc[i+1,0] = xt1\n",
    "        parameters.iloc[i+1,1] = xt2\n",
    "        \n",
    "        print(tabulate([[i, np.array([[xt1],[xt2]]), np.array(Hessian)]], headers=['Iteration Number', 'Alpha1 & Alpha2','Hessian'], tablefmt='orgtbl'))\n",
    "        \n",
    "        itt = itt + 1\n",
    "        \n",
    "        error_criterion1 = np.absolute(xt1 - xt01)\n",
    "        error_criterion2 = np.absolute(xt2 - xt02)\n",
    "        \n",
    "        xt_list.append([xt01,xt02])\n",
    "        et_list.append([error_criterion1,error_criterion2])\n",
    "        if  abs(error_criterion1)<eps and abs(error_criterion2)<eps:\n",
    "            print('Solution found based on starting value of ' + str(Start1) +  ' , ' + str(Start2) +  ' : ' + str(xt1)  +  ' , ' + str(xt2))\n",
    "            print('Itteration: ' + str(itt))\n",
    "            break\n",
    "        elif itt == maxitt:\n",
    "            print(\"The maximum number of itterations reached!\") \n",
    "            print('Solution found based on starting value of ' + str(Start1) +  ' , ' + str(Start2) +  ' : ' + str(xt1) +  ' , ' + str(xt2))\n",
    "            print('Itteration: ' + str(itt))\n",
    "            break\n",
    "    \n",
    "    return xt1,xt2,parameters"
   ]
  },
  {
   "cell_type": "code",
   "execution_count": 6,
   "metadata": {},
   "outputs": [
    {
     "name": "stdout",
     "output_type": "stream",
     "text": [
      "|   Iteration Number | Alpha1 & Alpha2   | Hessian                       |\n",
      "|--------------------+-------------------+-------------------------------|\n",
      "|                  0 | [[1.11069413]     | [[-17.09980762  -9.55305121]  |\n",
      "|                    |  [0.86509595]]    |  [ -9.55305121  -8.74774852]] |\n",
      "|   Iteration Number | Alpha1 & Alpha2   | Hessian                       |\n",
      "|--------------------+-------------------+-------------------------------|\n",
      "|                  1 | [[1.09777485]     | [[-16.67192442  -9.11306399]  |\n",
      "|                    |  [0.9350086 ]]    |  [ -9.11306399  -8.23649062]] |\n",
      "|   Iteration Number | Alpha1 & Alpha2   | Hessian                       |\n",
      "|--------------------+-------------------+-------------------------------|\n",
      "|                  2 | [[1.09715323]     | [[-16.66034104  -9.09930215]  |\n",
      "|                    |  [0.93755179]]    |  [ -9.09930215  -8.2200131 ]] |\n",
      "|   Iteration Number | Alpha1 & Alpha2   | Hessian                       |\n",
      "|--------------------+-------------------+-------------------------------|\n",
      "|                  3 | [[1.09715253]     | [[-16.66032852  -9.09928714]  |\n",
      "|                    |  [0.93755458]]    |  [ -9.09928714  -8.21999508]] |\n",
      "Solution found based on starting value of 1.1 , 0.6 : 1.097152532699032 , 0.9375545844150326\n",
      "Itteration: 4\n"
     ]
    }
   ],
   "source": [
    "Newton = np.array(NR(1.1,0.6,5)[2])"
   ]
  },
  {
   "cell_type": "markdown",
   "metadata": {},
   "source": [
    "**Implement the Newton–Fisherscoring**"
   ]
  },
  {
   "cell_type": "code",
   "execution_count": 7,
   "metadata": {},
   "outputs": [],
   "source": [
    "# calculte the seccond derivative\n",
    "xt1 = sym.Symbol('a1pha1')\n",
    "xt2 = sym.Symbol('a1pha2')\n",
    "DDfI11 = lambdify([xt1,xt2], sum(beta1**2/(xt1*beta1+xt2*beta2)), 'numpy')\n",
    "DDfI12 = lambdify([xt1,xt2], sum(beta1*beta2/(xt1*beta1+xt2*beta2)), 'numpy')\n",
    "DDfI22 = lambdify([xt1,xt2], sum(beta2**2/(xt1*beta1+xt2*beta2)), 'numpy')\n",
    "\n",
    "def NF(Start1, Start2, maxitt, STD):\n",
    "    ## STD > print standard error or not\n",
    "    itt = 0\n",
    "    i = 0\n",
    "    eps = 0.001\n",
    "    xt1 = Start1\n",
    "    xt2 = Start2\n",
    "    xt_list = []\n",
    "    et_list = []\n",
    "    parameters = pd.DataFrame(np.zeros((maxitt + 1, 2)))\n",
    "    parameters[0][0] = xt1\n",
    "    parameters[0][1] = xt2\n",
    "    for i in range(10000):\n",
    "        \n",
    "        xt01 = xt1\n",
    "        xt02 = xt2\n",
    "\n",
    "        [[xt1],[xt2]] = [[xt1],[xt2]] + np.linalg.inv([[DDfI11(xt1,xt2),DDfI12(xt1,xt2)],[DDfI12(xt1,xt2),DDfI22(xt1,xt2)]]).dot([[Df1(xt1,xt2)],[Df2(xt1,xt2)]])\n",
    "        \n",
    "        Fisher = [[DDfI11(xt1,xt2),DDfI12(xt1,xt2)],[DDfI12(xt1,xt2),DDfI22(xt1,xt2)]]\n",
    "\n",
    "        Std_error1=inv(Fisher)[0][0]\n",
    "        Std_error2=inv(Fisher)[1][1]\n",
    "        \n",
    "        parameters.iloc[i+1,0] = xt1\n",
    "        parameters.iloc[i+1,1] = xt2\n",
    "        \n",
    "        if STD == 1:\n",
    "            print(tabulate([[i, np.array([[xt1],[xt2]]), np.array(Fisher), Std_error1, Std_error2]], headers=['Iteration Number', 'Alpha1 & Alpha2','Fisher','standard error alpha_1', 'standard error alpha_2'], tablefmt='orgtbl'))\n",
    "        else:\n",
    "            print(tabulate([[i, np.array([[xt1],[xt2]]), np.array(Fisher)]], headers=['Iteration Number', 'Alpha1 & Alpha2','Fisher'], tablefmt='orgtbl'))\n",
    "\n",
    "        itt = itt + 1\n",
    "        \n",
    "        error_criterion1 = np.absolute(xt1 - xt01)\n",
    "        error_criterion2 = np.absolute(xt2 - xt02)\n",
    "        \n",
    "        xt_list.append([xt01,xt02])\n",
    "        et_list.append([error_criterion1,error_criterion2])\n",
    "        if  abs(error_criterion1)<eps and abs(error_criterion2)<eps:\n",
    "            print('Solution found based on starting value of ' + str(Start1) +  ' , ' + str(Start2) +  ' : ' + str(xt1)  +  ' , ' + str(xt2))\n",
    "            print('Itteration: ' + str(itt))\n",
    "            break\n",
    "        elif itt == maxitt:\n",
    "            print(\"The maximum number of itterations reached!\") \n",
    "            print('Solution found based on starting value of ' + str(Start1) +  ' , ' + str(Start2) +  ' : ' + str(xt1) +  ' , ' + str(xt2))\n",
    "            print('Itteration: ' + str(itt))\n",
    "            break\n",
    "    \n",
    "    return xt1,xt2,parameters"
   ]
  },
  {
   "cell_type": "code",
   "execution_count": 8,
   "metadata": {},
   "outputs": [
    {
     "name": "stdout",
     "output_type": "stream",
     "text": [
      "|   Iteration Number | Alpha1 & Alpha2   | Fisher                      |\n",
      "|--------------------+-------------------+-----------------------------|\n",
      "|                  0 | [[1.07263246]     | [[16.47556919  9.37480343]  |\n",
      "|                    |  [0.97471587]]    |  [ 9.37480343  7.8323148 ]] |\n",
      "|   Iteration Number | Alpha1 & Alpha2   | Fisher                      |\n",
      "|--------------------+-------------------+-----------------------------|\n",
      "|                  1 | [[1.10498179]     | [[16.39234967  9.39489636]  |\n",
      "|                    |  [0.92568898]]    |  [ 9.39489636  7.89553586]] |\n",
      "|   Iteration Number | Alpha1 & Alpha2   | Fisher                      |\n",
      "|--------------------+-------------------+-----------------------------|\n",
      "|                  2 | [[1.09469009]     | [[16.41831592  9.38824897]  |\n",
      "|                    |  [0.94128653]]    |  [ 9.38824897  7.87515455]] |\n",
      "|   Iteration Number | Alpha1 & Alpha2   | Fisher                      |\n",
      "|--------------------+-------------------+-----------------------------|\n",
      "|                  3 | [[1.09793073]     | [[16.41008878  9.39031633]  |\n",
      "|                    |  [0.93637519]]    |  [ 9.39031633  7.88154494]] |\n",
      "|   Iteration Number | Alpha1 & Alpha2   | Fisher                      |\n",
      "|--------------------+-------------------+-----------------------------|\n",
      "|                  4 | [[1.09690697]     | [[16.41268277  9.38966067]  |\n",
      "|                    |  [0.93792674]]    |  [ 9.38966067  7.87952343]] |\n",
      "The maximum number of itterations reached!\n",
      "Solution found based on starting value of 1.3 , 0.9 : 1.0969069709204473 , 0.9379267444670893\n",
      "Itteration: 5\n"
     ]
    }
   ],
   "source": [
    "Fisher = np.array(NF(1.3,0.9,5,0)[2])"
   ]
  },
  {
   "cell_type": "markdown",
   "metadata": {},
   "source": [
    "**d.** Estimate standard errors for the MLEs of α1 and α2.\n",
    "(d) Present your estimates in the last 5 iterations in a format similar to Table 2.1.\n",
    "\n",
    "### Answer to part (d):"
   ]
  },
  {
   "cell_type": "code",
   "execution_count": 9,
   "metadata": {},
   "outputs": [
    {
     "name": "stdout",
     "output_type": "stream",
     "text": [
      "|   Iteration Number | Alpha1 & Alpha2   | Fisher                      |   standard error alpha_1 |   standard error alpha_2 |\n",
      "|--------------------+-------------------+-----------------------------+--------------------------+--------------------------|\n",
      "|                  0 | [[1.09180033]     | [[16.42569187  9.38642539]  |                 0.191208 |                 0.399102 |\n",
      "|                    |  [0.9456661 ]]    |  [ 9.38642539  7.86947711]] |                          |                          |\n",
      "|   Iteration Number | Alpha1 & Alpha2   | Fisher                      |   standard error alpha_1 |   standard error alpha_2 |\n",
      "|--------------------+-------------------+-----------------------------+--------------------------+--------------------------|\n",
      "|                  1 | [[1.09884625]     | [[16.407773    9.39090467]  |                 0.191533 |                 0.398642 |\n",
      "|                    |  [0.93498767]]    |  [ 9.39090467  7.88335483]] |                          |                          |\n",
      "|   Iteration Number | Alpha1 & Alpha2   | Fisher                      |   standard error alpha_1 |   standard error alpha_2 |\n",
      "|--------------------+-------------------+-----------------------------+--------------------------+--------------------------|\n",
      "|                  2 | [[1.0966183 ]     | [[16.41341503  9.38947622]  |                 0.191431 |                 0.398788 |\n",
      "|                    |  [0.93836423]]    |  [ 9.38947622  7.87895389]] |                          |                          |\n",
      "|   Iteration Number | Alpha1 & Alpha2   | Fisher                      |   standard error alpha_1 |   standard error alpha_2 |\n",
      "|--------------------+-------------------+-----------------------------+--------------------------+--------------------------|\n",
      "|                  3 | [[1.09732121]     | [[16.41163261  9.38992568]  |                 0.191463 |                 0.398742 |\n",
      "|                    |  [0.93729894]]    |  [ 9.38992568  7.88034109]] |                          |                          |\n",
      "|   Iteration Number | Alpha1 & Alpha2   | Fisher                      |   standard error alpha_1 |   standard error alpha_2 |\n",
      "|--------------------+-------------------+-----------------------------+--------------------------+--------------------------|\n",
      "|                  4 | [[1.09709929]     | [[16.41219511  9.38978366]  |                 0.191453 |                 0.398756 |\n",
      "|                    |  [0.93763527]]    |  [ 9.38978366  7.87990299]] |                          |                          |\n",
      "Solution found based on starting value of 1.1 , 0.9 : 1.097099290771061 , 0.9376352749817893\n",
      "Itteration: 5\n"
     ]
    }
   ],
   "source": [
    "NF(1.1,0.9,5,1);"
   ]
  },
  {
   "cell_type": "markdown",
   "metadata": {},
   "source": [
    "**e.** Apply the method of steepest ascent. Use step-halving backtracking as necessary.\n",
    "(e) Present your estimates in the last 5 iterations in a format similar to Table 2.1.\n",
    "\n",
    "### Answer to part (e):"
   ]
  },
  {
   "cell_type": "code",
   "execution_count": 10,
   "metadata": {},
   "outputs": [],
   "source": [
    "def SA(Start1, Start2, maxitt, step):\n",
    "    ## STD > print standard error or not\n",
    "    itt = 0\n",
    "    i = 0\n",
    "    eps = 0.00001\n",
    "    xt1 = Start1\n",
    "    xt2 = Start2\n",
    "    xt_list = []\n",
    "    et_list = []\n",
    "    parameters = pd.DataFrame(np.zeros((maxitt + 1, 2)))\n",
    "    parameters[0][0] = xt1\n",
    "    parameters[0][1] = xt2\n",
    "    \n",
    "    for i in range(10000):\n",
    "        \n",
    "        xt01 = xt1\n",
    "        xt02 = xt2\n",
    "\n",
    "        [[xt1],[xt2]] = [[xt1],[xt2]] + step*inv(-np.eye(2)).dot([[Df1(xt1,xt2)],[Df2(xt1,xt2)]])\n",
    "        \n",
    "        step = step/2\n",
    "        \n",
    "        parameters.iloc[i+1,0] = xt1\n",
    "        parameters.iloc[i+1,1] = xt2\n",
    "        \n",
    "        print(tabulate([[i, np.array([[xt1],[xt2]]), step]], headers=['Iteration Number', 'Alpha1 & Alpha2','step value'], tablefmt='orgtbl'))\n",
    "\n",
    "        itt = itt + 1\n",
    "        \n",
    "        error_criterion1 = np.absolute(xt1 - xt01)\n",
    "        error_criterion2 = np.absolute(xt2 - xt02)\n",
    "        \n",
    "        xt_list.append([xt01,xt02])\n",
    "        et_list.append([error_criterion1,error_criterion2])\n",
    "        if  abs(error_criterion1)<eps and abs(error_criterion2)<eps:\n",
    "            print('Solution found based on starting value of ' + str(Start1) +  ' , ' + str(Start2) +  ' : ' + str(xt1)  +  ' , ' + str(xt2))\n",
    "            print('Itteration: ' + str(itt))\n",
    "            break\n",
    "        elif itt == maxitt:\n",
    "            print(\"The maximum number of itterations reached!\") \n",
    "            print('Solution found based on starting value of ' + str(Start1) +  ' , ' + str(Start2) +  ' : ' + str(xt1) +  ' , ' + str(xt2))\n",
    "            print('Itteration: ' + str(itt))\n",
    "            break\n",
    "    \n",
    "    return xt1,xt2,parameters"
   ]
  },
  {
   "cell_type": "code",
   "execution_count": 11,
   "metadata": {},
   "outputs": [
    {
     "name": "stdout",
     "output_type": "stream",
     "text": [
      "|   Iteration Number | Alpha1 & Alpha2   |   step value |\n",
      "|--------------------+-------------------+--------------|\n",
      "|                  0 | [[3.85652112]     |          0.5 |\n",
      "|                    |  [4.49231926]]    |              |\n",
      "|   Iteration Number | Alpha1 & Alpha2   |   step value |\n",
      "|--------------------+-------------------+--------------|\n",
      "|                  1 | [[13.83316936]    |         0.25 |\n",
      "|                    |  [11.1606064 ]]   |              |\n",
      "|   Iteration Number | Alpha1 & Alpha2   |   step value |\n",
      "|--------------------+-------------------+--------------|\n",
      "|                  2 | [[19.9944055 ]    |        0.125 |\n",
      "|                    |  [15.22357349]]   |              |\n",
      "|   Iteration Number | Alpha1 & Alpha2   |   step value |\n",
      "|--------------------+-------------------+--------------|\n",
      "|                  3 | [[23.15508945]    |       0.0625 |\n",
      "|                    |  [17.30740629]]   |              |\n",
      "|   Iteration Number | Alpha1 & Alpha2   |   step value |\n",
      "|--------------------+-------------------+--------------|\n",
      "|                  4 | [[24.74798332]    |      0.03125 |\n",
      "|                    |  [18.35760107]]   |              |\n",
      "The maximum number of itterations reached!\n",
      "Solution found based on starting value of 1 , 1.5 : 24.74798332058179 , 18.357601069796644\n",
      "Itteration: 5\n"
     ]
    }
   ],
   "source": [
    "SA(1,1.5,5,1);"
   ]
  },
  {
   "cell_type": "code",
   "execution_count": 12,
   "metadata": {},
   "outputs": [],
   "source": [
    "def SA_BackTrack(Start1, Start2, maxitt, step):\n",
    "    ## STD > print standard error or not\n",
    "    itt = 0\n",
    "    i = 0\n",
    "    eps = 0.00001\n",
    "    xt1 = Start1\n",
    "    xt2 = Start2\n",
    "    xt_list = []\n",
    "    et_list = []\n",
    "    parameters = pd.DataFrame(np.zeros((maxitt + 1, 2)))\n",
    "    parameters[0][0] = xt1\n",
    "    parameters[0][1] = xt2\n",
    "    \n",
    "    for i in range(10000):\n",
    "        \n",
    "        xt01 = xt1\n",
    "        xt02 = xt2\n",
    "\n",
    "        [[xt1],[xt2]] = [[xt01],[xt02]] - step*inv(-np.eye(2)).dot([[Df1(xt01,xt02)],[Df2(xt01,xt02)]])\n",
    "        \n",
    "        while LLfunc(xt1,xt2)<LLfunc(xt01,xt02):\n",
    "            step = step/2\n",
    "            [[xt1],[xt2]] = [[xt01],[xt02]] - step*inv(-np.eye(2)).dot([[Df1(xt01,xt02)],[Df2(xt01,xt02)]])\n",
    "        \n",
    "        parameters.iloc[i+1,0] = xt1\n",
    "        parameters.iloc[i+1,1] = xt2\n",
    "        \n",
    "        print(tabulate([[i, np.array([[xt1],[xt2]]), step]], headers=['Iteration Number', 'Alpha1 & Alpha2','step value'], tablefmt='orgtbl'))\n",
    "\n",
    "        itt = itt + 1\n",
    "        \n",
    "        error_criterion1 = np.absolute(Df1(xt1, xt2))\n",
    "        error_criterion2 = np.absolute(Df2(xt1, xt2))\n",
    "        #error_criterion1 = np.absolute(xt1 - xt01)\n",
    "        #error_criterion2 = np.absolute(xt2 - xt02)\n",
    "        \n",
    "        xt_list.append([xt01,xt02])\n",
    "        et_list.append([error_criterion1,error_criterion2])\n",
    "        if  abs(error_criterion1)<eps and abs(error_criterion2)<eps:\n",
    "            print('Solution found based on starting value of ' + str(Start1) +  ' , ' + str(Start2) +  ' : ' + str(xt1)  +  ' , ' + str(xt2))\n",
    "            print('Itteration: ' + str(itt))\n",
    "            break\n",
    "        elif itt == maxitt:\n",
    "            print(\"The maximum number of itterations reached!\") \n",
    "            print('Solution found based on starting value of ' + str(Start1) +  ' , ' + str(Start2) +  ' : ' + str(xt1) +  ' , ' + str(xt2))\n",
    "            print('Itteration: ' + str(itt))\n",
    "            break\n",
    "    \n",
    "    return xt1,xt2,parameters"
   ]
  },
  {
   "cell_type": "code",
   "execution_count": 13,
   "metadata": {
    "scrolled": true
   },
   "outputs": [
    {
     "name": "stdout",
     "output_type": "stream",
     "text": [
      "|   Iteration Number | Alpha1 & Alpha2   |   step value |\n",
      "|--------------------+-------------------+--------------|\n",
      "|                  0 | [[1.82709757]     |       0.0625 |\n",
      "|                    |  [0.95576216]]    |              |\n",
      "|   Iteration Number | Alpha1 & Alpha2   |   step value |\n",
      "|--------------------+-------------------+--------------|\n",
      "|                  1 | [[1.30549455]     |       0.0625 |\n",
      "|                    |  [0.65210367]]    |              |\n",
      "|   Iteration Number | Alpha1 & Alpha2   |   step value |\n",
      "|--------------------+-------------------+--------------|\n",
      "|                  2 | [[1.26283841]     |       0.0625 |\n",
      "|                    |  [0.68612576]]    |              |\n",
      "|   Iteration Number | Alpha1 & Alpha2   |   step value |\n",
      "|--------------------+-------------------+--------------|\n",
      "|                  3 | [[1.24146585]     |       0.0625 |\n",
      "|                    |  [0.72598535]]    |              |\n",
      "|   Iteration Number | Alpha1 & Alpha2   |   step value |\n",
      "|--------------------+-------------------+--------------|\n",
      "|                  4 | [[1.21757694]     |       0.0625 |\n",
      "|                    |  [0.75595633]]    |              |\n",
      "The maximum number of itterations reached!\n",
      "Solution found based on starting value of 1 , 0.2 : 1.2175769448941705 , 0.7559563344109046\n",
      "Itteration: 5\n"
     ]
    }
   ],
   "source": [
    "steepest = np.array(SA_BackTrack(1,0.2,5,1)[2])"
   ]
  },
  {
   "cell_type": "markdown",
   "metadata": {},
   "source": [
    "**f.** Apply quasi-Newton optimization with the Hessian approximation update given in\n",
    "(2.49). Compare performance with and without step halving.\n",
    "(f) Present your estimates in the last 5 iterations in a format similar to Table 2.1. For choices\n",
    "of the starting matrix M(0), read the 3rd paragraph on page 43.\n",
    "\n",
    "### Answer to part (f):"
   ]
  },
  {
   "cell_type": "code",
   "execution_count": 14,
   "metadata": {},
   "outputs": [],
   "source": [
    "def QN(Start1, Start2, maxitt, step):\n",
    "    ## STD > print standard error or not\n",
    "    itt = 0\n",
    "    i = 0\n",
    "    eps = 0.00001\n",
    "    xt1 = Start1\n",
    "    xt2 = Start2\n",
    "    Matrix = -np.eye(2)\n",
    "    xt_list = []\n",
    "    et_list = []\n",
    "    parameters = pd.DataFrame(np.zeros((maxitt + 1, 2)))\n",
    "    parameters[0][0] = xt1\n",
    "    parameters[0][1] = xt2\n",
    "    \n",
    "    for i in range(10000):\n",
    "        \n",
    "        xt01 = xt1\n",
    "        xt02 = xt2\n",
    "\n",
    "        [[xt1],[xt2]] = [[xt01],[xt02]] - step*inv(Matrix).dot([[Df1(xt01,xt02)],[Df2(xt01,xt02)]])\n",
    "        \n",
    "        while LLfunc(xt1,xt2)<LLfunc(xt01,xt02):\n",
    "            step = step/2\n",
    "            [[xt1],[xt2]] = [[xt01],[xt02]] - step*inv(Matrix).dot([[Df1(xt01,xt02)],[Df2(xt01,xt02)]])\n",
    "        \n",
    "        parameters.iloc[i+1,0] = xt1\n",
    "        parameters.iloc[i+1,1] = xt2\n",
    "        \n",
    "        diff = np.array([[xt1 - xt01],[xt2 - xt02]])\n",
    "        Ddiff = np.array([[Df1(xt1,xt2)-Df1(xt01,xt02)],[Df2(xt1,xt2)-Df2(xt01,xt02)]])\n",
    "        multi = Ddiff-Matrix.dot(diff)\n",
    "        Matrix0 = Matrix\n",
    "        Matrix = Matrix-(Matrix.dot(diff).dot((Matrix.dot(diff)).T))/(diff.T.dot(Matrix).dot(diff))+Ddiff.dot(Ddiff.T)/((diff.T).dot(Ddiff))\n",
    "        \n",
    "        if abs(multi.T.dot(diff))<eps:\n",
    "            Matrix = Matrix0\n",
    "            \n",
    "        print(tabulate([[i, np.array([[xt1],[xt2]]), np.array(Matrix)]], headers=['Iteration Number', 'Alpha1 & Alpha2','Matrix'], tablefmt='orgtbl'))\n",
    "\n",
    "        itt = itt + 1\n",
    "        \n",
    "        error_criterion1 = np.absolute(Df1(xt1, xt2))\n",
    "        error_criterion2 = np.absolute(Df2(xt1, xt2))\n",
    "        #error_criterion1 = np.absolute(xt1 - xt01)\n",
    "        #error_criterion2 = np.absolute(xt2 - xt02)\n",
    "        \n",
    "        xt_list.append([xt01,xt02])\n",
    "        et_list.append([error_criterion1,error_criterion2])\n",
    "        if  abs(error_criterion1)<eps and abs(error_criterion2)<eps:\n",
    "            print('Solution found based on starting value of ' + str(Start1) +  ' , ' + str(Start2) +  ' : ' + str(xt1)  +  ' , ' + str(xt2))\n",
    "            print('Itteration: ' + str(itt))\n",
    "            break\n",
    "        elif itt == maxitt:\n",
    "            print(\"The maximum number of itterations reached!\") \n",
    "            print('Solution found based on starting value of ' + str(Start1) +  ' , ' + str(Start2) +  ' : ' + str(xt1) +  ' , ' + str(xt2))\n",
    "            print('Itteration: ' + str(itt))\n",
    "            break\n",
    "    \n",
    "    return xt1,xt2,parameters"
   ]
  },
  {
   "cell_type": "code",
   "execution_count": 15,
   "metadata": {
    "scrolled": false
   },
   "outputs": [
    {
     "name": "stdout",
     "output_type": "stream",
     "text": [
      "|   Iteration Number | Alpha1 & Alpha2   | Matrix                        |\n",
      "|--------------------+-------------------+-------------------------------|\n",
      "|                  0 | [[1.06955143]     | [[-17.17478711  -9.63852883]  |\n",
      "|                    |  [1.02419857]]    |  [ -9.63852883  -6.69159853]] |\n",
      "|   Iteration Number | Alpha1 & Alpha2   | Matrix                        |\n",
      "|--------------------+-------------------+-------------------------------|\n",
      "|                  1 | [[1.07574548]     | [[-15.86177964  -8.46867075]  |\n",
      "|                    |  [1.01111922]]    |  [ -8.46867075  -7.63828355]] |\n",
      "|   Iteration Number | Alpha1 & Alpha2   | Matrix                        |\n",
      "|--------------------+-------------------+-------------------------------|\n",
      "|                  2 | [[1.07708266]     | [[-15.86177964  -8.46867075]  |\n",
      "|                    |  [1.00638271]]    |  [ -8.46867075  -7.63828355]] |\n",
      "|   Iteration Number | Alpha1 & Alpha2   | Matrix                        |\n",
      "|--------------------+-------------------+-------------------------------|\n",
      "|                  3 | [[1.07833823]     | [[-15.86177964  -8.46867075]  |\n",
      "|                    |  [1.00194329]]    |  [ -8.46867075  -7.63828355]] |\n",
      "|   Iteration Number | Alpha1 & Alpha2   | Matrix                        |\n",
      "|--------------------+-------------------+-------------------------------|\n",
      "|                  4 | [[1.07951693]     | [[-15.86177964  -8.46867075]  |\n",
      "|                    |  [0.99778329]]    |  [ -8.46867075  -7.63828355]] |\n",
      "The maximum number of itterations reached!\n",
      "Solution found based on starting value of 1 , 1 : 1.0795169302048055 , 0.9977832879612138\n",
      "Itteration: 5\n"
     ]
    }
   ],
   "source": [
    "Quasi = np.array(QN(1,1,5,1)[2])"
   ]
  },
  {
   "cell_type": "code",
   "execution_count": 16,
   "metadata": {},
   "outputs": [],
   "source": [
    "def QN_No_step_halving(Start1, Start2, maxitt, step):\n",
    "    ## STD > print standard error or not\n",
    "    itt = 0\n",
    "    i = 0\n",
    "    eps = 0.00001\n",
    "    xt1 = Start1\n",
    "    xt2 = Start2\n",
    "    Matrix = -np.eye(2)\n",
    "    xt_list = []\n",
    "    et_list = []\n",
    "    parameters = pd.DataFrame(np.zeros((maxitt + 1, 2)))\n",
    "    parameters[0][0] = xt1\n",
    "    parameters[0][1] = xt2\n",
    "    \n",
    "    for i in range(10000):\n",
    "        \n",
    "        xt01 = xt1\n",
    "        xt02 = xt2\n",
    "\n",
    "        [[xt1],[xt2]] = [[xt01],[xt02]] - step*inv(Matrix).dot([[Df1(xt01,xt02)],[Df2(xt01,xt02)]])\n",
    "        \n",
    "        parameters.iloc[i+1,0] = xt1\n",
    "        parameters.iloc[i+1,1] = xt2\n",
    "        \n",
    "        diff = np.array([[xt1 - xt01],[xt2 - xt02]])\n",
    "        Ddiff = np.array([[Df1(xt1,xt2)-Df1(xt01,xt02)],[Df2(xt1,xt2)-Df2(xt01,xt02)]])\n",
    "        multi = Ddiff-Matrix.dot(diff)\n",
    "        Matrix0 = Matrix\n",
    "        Matrix = Matrix-(Matrix.dot(diff).dot((Matrix.dot(diff)).T))/(diff.T.dot(Matrix).dot(diff))+Ddiff.dot(Ddiff.T)/((diff.T).dot(Ddiff))\n",
    "        \n",
    "        if abs(multi.T.dot(diff))<eps:\n",
    "            Matrix = Matrix0\n",
    "            \n",
    "        print(tabulate([[i, np.array([[xt1],[xt2]]), np.array(Matrix)]], headers=['Iteration Number', 'Alpha1 & Alpha2','Matrix'], tablefmt='orgtbl'))\n",
    "\n",
    "        itt = itt + 1\n",
    "        \n",
    "        error_criterion1 = np.absolute(Df1(xt1, xt2))\n",
    "        error_criterion2 = np.absolute(Df2(xt1, xt2))\n",
    "        #error_criterion1 = np.absolute(xt1 - xt01)\n",
    "        #error_criterion2 = np.absolute(xt2 - xt02)\n",
    "        \n",
    "        xt_list.append([xt01,xt02])\n",
    "        et_list.append([error_criterion1,error_criterion2])\n",
    "        if  abs(error_criterion1)<eps and abs(error_criterion2)<eps:\n",
    "            print('Solution found based on starting value of ' + str(Start1) +  ' , ' + str(Start2) +  ' : ' + str(xt1)  +  ' , ' + str(xt2))\n",
    "            print('Itteration: ' + str(itt))\n",
    "            break\n",
    "        elif itt == maxitt:\n",
    "            print(\"The maximum number of itterations reached!\") \n",
    "            print('Solution found based on starting value of ' + str(Start1) +  ' , ' + str(Start2) +  ' : ' + str(xt1) +  ' , ' + str(xt2))\n",
    "            print('Itteration: ' + str(itt))\n",
    "            break\n",
    "    \n",
    "    return xt1,xt2,parameters\n"
   ]
  },
  {
   "cell_type": "code",
   "execution_count": 17,
   "metadata": {},
   "outputs": [
    {
     "name": "stdout",
     "output_type": "stream",
     "text": [
      "|   Iteration Number | Alpha1 & Alpha2   | Matrix                      |\n",
      "|--------------------+-------------------+-----------------------------|\n",
      "|                  0 | [[2.11282285]     | [[-9.64661561 -5.50718581]  |\n",
      "|                    |  [1.38717715]]    |  [-5.50718581 -4.44009349]] |\n",
      "|   Iteration Number | Alpha1 & Alpha2   | Matrix                      |\n",
      "|--------------------+-------------------+-----------------------------|\n",
      "|                  1 | [[1.22465252]     | [[-8.77765823 -5.32776957]  |\n",
      "|                    |  [0.80855672]]    |  [-5.32776957 -4.57869334]] |\n",
      "|   Iteration Number | Alpha1 & Alpha2   | Matrix                        |\n",
      "|--------------------+-------------------+-------------------------------|\n",
      "|                  2 | [[0.92076939]     | [[-12.56313331  -5.13788806]  |\n",
      "|                    |  [1.14486748]]    |  [ -5.13788806  -4.55394616]] |\n",
      "|   Iteration Number | Alpha1 & Alpha2   | Matrix                        |\n",
      "|--------------------+-------------------+-------------------------------|\n",
      "|                  3 | [[1.1084478 ]     | [[-12.69130113  -5.02761629]  |\n",
      "|                    |  [0.92228038]]    |  [ -5.02761629  -4.5644552 ]] |\n",
      "|   Iteration Number | Alpha1 & Alpha2   | Matrix                        |\n",
      "|--------------------+-------------------+-------------------------------|\n",
      "|                  4 | [[1.09810722]     | [[-10.55146651  -5.2908917 ]  |\n",
      "|                    |  [0.93871679]]    |  [ -5.2908917   -5.8386925 ]] |\n",
      "The maximum number of itterations reached!\n",
      "Solution found based on starting value of 1 , 1 : 1.098107220902333 , 0.938716789241991\n",
      "Itteration: 5\n"
     ]
    }
   ],
   "source": [
    "QN_No_step_halving(1,1,5,1);"
   ]
  },
  {
   "cell_type": "markdown",
   "metadata": {},
   "source": [
    "**comparison of quasi-Newton optimization with and without backtracking update shows that the backtracking can ensure ascent, but guaranteed ascent is not equivalent to guaranteed convergence, therefore we can see with diffrent starting values the quasi-Newton optimization without backtracking update may not necessarly converge! Also, regarding the order of convergence of quasi-Newton methods, they are usually faster than linear but slower than quadratic. Nevertheless, quasi-Newton methods are fast and powerful and are often used frequently.**"
   ]
  },
  {
   "cell_type": "markdown",
   "metadata": {},
   "source": [
    "**g.** Construct a graph resembling Figure 2.8 that compares the paths taken by methods\n",
    "used in (a)–(f). Choose the plotting region and starting point to best illustrate the\n",
    "features of the algorithms’ performance.\n",
    "(g) Display the required graphs in the notebook.\n",
    "### Answer to part (g):"
   ]
  },
  {
   "cell_type": "code",
   "execution_count": 18,
   "metadata": {},
   "outputs": [
    {
     "data": {
      "image/png": "[encoded data removed]",
      "text/plain": [
       "<Figure size 1440x720 with 2 Axes>"
      ]
     },
     "metadata": {
      "needs_background": "light"
     },
     "output_type": "display_data"
    }
   ],
   "source": [
    "def ll(x,beta1,beta2,Val):\n",
    "    ll=0\n",
    "    alpha1=Val[0]\n",
    "    alpha2=Val[1]\n",
    "    for i in range(len(x)):\n",
    "        ll+=x[i]*log(alpha1*beta1[i]+alpha2*beta2[i])-(alpha1*beta1[i]+alpha2*beta2[i])-log(np.math.factorial(x[i]))\n",
    "    return ll\n",
    "alpha1 = np.linspace(0.01,2.5,100)\n",
    "alpha2 = np.linspace(0.01,2.5,100)\n",
    "Alpha1, Alpha2 = np.meshgrid(alpha1, alpha2)\n",
    "loglike=np.full_like(Alpha1, np.nan, dtype=float)\n",
    "for idx in range(Alpha1.size):\n",
    "    Val = (Alpha1.flat[idx], Alpha2.flat[idx])\n",
    "    loglike.flat[idx] = ll(x,beta1,beta2,Val)\n",
    "\n",
    "fig = plt.figure(figsize = (20,10))\n",
    "cp = plt.contour(Alpha1, Alpha2, loglike, colors='black', linestyles='dashed', linewidths=1)\n",
    "plt.clabel(cp, inline=1, fontsize=10)\n",
    "for i in range(len(Newton) - 1):\n",
    "    plt.annotate('', xy=Newton[i + 1, :], xytext=Newton[i, :], arrowprops={'arrowstyle': '->', 'color': 'b', 'lw': 1}, va='center', ha='center')\n",
    "for i in range(len(Fisher) - 1):\n",
    "    plt.annotate('', xy=Fisher[i + 1, :], xytext=Fisher[i, :], arrowprops={'arrowstyle': '->', 'color': 'k', 'lw': 1}, va='center', ha='center')\n",
    "for i in range(len(steepest) - 1):\n",
    "    plt.annotate('', xy=steepest[i + 1, :], xytext=steepest[i, :], arrowprops={'arrowstyle': '->', 'color': 'g', 'lw': 1}, va='center', ha='center')\n",
    "for i in range(len(Quasi) - 1):\n",
    "    plt.annotate('', xy=Quasi[i + 1, :], xytext=Quasi[i, :], arrowprops={'arrowstyle': '->', 'color': 'r', 'lw': 1}, va='center', ha='center')\n",
    "    \n",
    "plt.text(0.9, 1.3,  'Newton–Raphson', verticalalignment='center', fontsize=20,color='b')\n",
    "plt.text(1.1, 1, 'Fisher scoring', verticalalignment='center', fontsize=20,color='k')\n",
    "plt.text(1.7, 1.1, 'steepest ascent', verticalalignment='center', fontsize=20,color='g')\n",
    "plt.text(0.8, 1.2, 'quasi-Newton', verticalalignment='center', fontsize=20,color='r')\n",
    "cp = plt.contourf(Alpha1, Alpha2, loglike, )\n",
    "bar = plt.colorbar()\n",
    "bar.set_label(r'$\\lambda^{(i)}$', fontsize = 20, rotation = 90)\n",
    "plt.xlabel(r'$\\alpha_1$', fontsize = 20)\n",
    "plt.ylabel(r'$\\alpha_2$', fontsize = 20)\n",
    "plt.show()"
   ]
  },
  {
   "cell_type": "markdown",
   "metadata": {},
   "source": [
    "**Fisher scoring method is asymptotically equivalent to Newton’s method and generally, Fisher scoring works better in the beginning to make rapid improvements, while Newton’s method works better for refinement near the end. The method of steepest ascent is obtained with the Hessian replacement M(t) = −I, where I is the identity matrix. therefore, this algorithm involves a positive definite matrix −M(t) to approximate the negative Hessian, and a contraction or step length parameter α(t) > 0 whose value can shrink to ensure ascent at each step. Finally, the quasi-Newton methods are usually faster and more powerful compared to rest.**"
   ]
  },
  {
   "cell_type": "code",
   "execution_count": null,
   "metadata": {},
   "outputs": [],
   "source": []
  }
 ],
 "metadata": {
  "kernelspec": {
   "display_name": "Python 3",
   "language": "python",
   "name": "python3"
  },
  "language_info": {
   "codemirror_mode": {
    "name": "ipython",
    "version": 3
   },
   "file_extension": ".py",
   "mimetype": "text/x-python",
   "name": "python",
   "nbconvert_exporter": "python",
   "pygments_lexer": "ipython3",
   "version": "3.7.5"
  }
 },
 "nbformat": 4,
 "nbformat_minor": 2
}
