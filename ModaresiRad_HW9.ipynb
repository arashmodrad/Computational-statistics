{
 "cells": [
  {
   "cell_type": "markdown",
   "metadata": {},
   "source": [
    "<h1><center> MATH 472/572 Computational Statistics - Spring 2020 </h1></center>\n",
    "<h2><center> Homework 9 - Due April 7, Tuesday </h2></center>\n",
    "<h3><center> Instructor: Leming Qu </h3></center>"
   ]
  },
  {
   "cell_type": "markdown",
   "metadata": {},
   "source": [
    "<h1><center> Student: Arash Modaresi Rad </h1></center>"
   ]
  },
  {
   "cell_type": "markdown",
   "metadata": {},
   "source": [
    "## Coding Assignments:"
   ]
  },
  {
   "cell_type": "code",
   "execution_count": 2,
   "metadata": {},
   "outputs": [],
   "source": [
    "import numpy as np\n",
    "import seaborn as sb\n",
    "import sympy as sym\n",
    "from sympy import *\n",
    "from numpy import ma\n",
    "from numpy.linalg import inv\n",
    "from numpy import linalg as LA\n",
    "import pandas as pd \n",
    "import matplotlib.pyplot as plt  \n",
    "import functools as fts\n",
    "from tabulate import tabulate as tabulate\n",
    "from scipy.stats import norm, uniform, lognorm, gamma, poisson\n",
    "from scipy import stats\n",
    "from scipy import integrate\n",
    "\n",
    "np.random.seed(1100)"
   ]
  },
  {
   "cell_type": "markdown",
   "metadata": {},
   "source": [
    "1. (20 Points) Problem 6.7 on page 198 of Computational Statistics.\n",
    "Required output: print appropriate numbers, texts, visual displays to the Jupyter notebook\n",
    "to show the results for each question."
   ]
  },
  {
   "cell_type": "code",
   "execution_count": null,
   "metadata": {},
   "outputs": [],
   "source": []
  },
  {
   "cell_type": "markdown",
   "metadata": {},
   "source": [
    "2. (20 Points) Problem 6.8 on page 198 of Computational Statistics.\n",
    "Required output: print appropriate numbers, texts, visual displays to the Jupyter notebook\n",
    "to show the results"
   ]
  },
  {
   "cell_type": "code",
   "execution_count": null,
   "metadata": {},
   "outputs": [],
   "source": []
  }
 ],
 "metadata": {
  "kernelspec": {
   "display_name": "Python 3",
   "language": "python",
   "name": "python3"
  },
  "language_info": {
   "codemirror_mode": {
    "name": "ipython",
    "version": 3
   },
   "file_extension": ".py",
   "mimetype": "text/x-python",
   "name": "python",
   "nbconvert_exporter": "python",
   "pygments_lexer": "ipython3",
   "version": "3.7.5"
  }
 },
 "nbformat": 4,
 "nbformat_minor": 2
}
